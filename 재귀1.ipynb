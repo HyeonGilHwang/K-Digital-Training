{
  "nbformat": 4,
  "nbformat_minor": 0,
  "metadata": {
    "colab": {
      "name": "재귀1.ipynb",
      "provenance": [],
      "collapsed_sections": [],
      "include_colab_link": true
    },
    "kernelspec": {
      "name": "python3",
      "display_name": "Python 3"
    },
    "language_info": {
      "name": "python"
    }
  },
  "cells": [
    {
      "cell_type": "markdown",
      "metadata": {
        "id": "view-in-github",
        "colab_type": "text"
      },
      "source": [
        "<a href=\"https://colab.research.google.com/github/hyeongil2/K-Digital-Training/blob/main/%EC%9E%AC%EA%B7%801.ipynb\" target=\"_parent\"><img src=\"https://colab.research.google.com/assets/colab-badge.svg\" alt=\"Open In Colab\"/></a>"
      ]
    },
    {
      "cell_type": "markdown",
      "metadata": {
        "id": "eQXc_647lQyS"
      },
      "source": [
        "## 숫자합\n",
        "n번째 삼각수(triangle number)는 자연수 1부터 n까지의 합이다. 파라미터로 정수값 n을 받고 n번째 삼각수를 리턴해 주는 재귀함수 triangle_number를 쓰세요. n은 1 이상의 자연수라고 가정한다. (함수 안에 반복문을 쓰면 안된다.)"
      ]
    },
    {
      "cell_type": "code",
      "metadata": {
        "id": "ht7tPTajlEA5",
        "colab": {
          "base_uri": "https://localhost:8080/"
        },
        "outputId": "e6fc7400-9794-4832-c119-c9dd3bd11ca3"
      },
      "source": [
        "# 1부터 n까지의 합을 리턴\n",
        "def triangle_number(n):\n",
        "    # 코드 입력\n",
        "    if n == 1:\n",
        "      return 1\n",
        "    return n + triangle_number(n-1)\n",
        "\n",
        "# 테스트 (triangle_number(1)부터 triangle_number(10)까지 출력)\n",
        "for i in range(1, 11):\n",
        "    print(f\"{i}까지의 합 : {triangle_number(i)}\")"
      ],
      "execution_count": 2,
      "outputs": [
        {
          "output_type": "stream",
          "text": [
            "1까지의 합 : 1\n",
            "2까지의 합 : 3\n",
            "3까지의 합 : 6\n",
            "4까지의 합 : 10\n",
            "5까지의 합 : 15\n",
            "6까지의 합 : 21\n",
            "7까지의 합 : 28\n",
            "8까지의 합 : 36\n",
            "9까지의 합 : 45\n",
            "10까지의 합 : 55\n"
          ],
          "name": "stdout"
        }
      ]
    }
  ]
}