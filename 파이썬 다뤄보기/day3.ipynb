{
 "cells": [
  {
   "cell_type": "code",
   "execution_count": 2,
   "metadata": {},
   "outputs": [],
   "source": [
    "import os"
   ]
  },
  {
   "cell_type": "code",
   "execution_count": 3,
   "metadata": {},
   "outputs": [
    {
     "data": {
      "text/plain": [
       "'C:\\\\Users\\\\tmxhs'"
      ]
     },
     "execution_count": 3,
     "metadata": {},
     "output_type": "execute_result"
    }
   ],
   "source": [
    "os.getcwd() # 현재 경로 확인"
   ]
  },
  {
   "cell_type": "code",
   "execution_count": 4,
   "metadata": {},
   "outputs": [
    {
     "data": {
      "text/plain": [
       "['.idlerc',\n",
       " '.ipynb_checkpoints',\n",
       " '.ipython',\n",
       " '.jupyter',\n",
       " '.matplotlib',\n",
       " '.spyder-py3',\n",
       " '.vscode',\n",
       " '3D Objects',\n",
       " 'AppData',\n",
       " 'Application Data',\n",
       " 'Contacts',\n",
       " 'Cookies',\n",
       " 'day2.ipynb',\n",
       " 'day3.ipynb',\n",
       " 'Desktop',\n",
       " 'Documents',\n",
       " 'Downloads',\n",
       " 'Favorites',\n",
       " 'File specification',\n",
       " 'IntelGraphicsProfiles',\n",
       " 'Links',\n",
       " 'Local Settings',\n",
       " 'Music',\n",
       " 'My Documents',\n",
       " 'NetHood',\n",
       " 'NTUSER.DAT',\n",
       " 'ntuser.dat.LOG1',\n",
       " 'ntuser.dat.LOG2',\n",
       " 'NTUSER.DAT{53b39e88-18c4-11ea-a811-000d3aa4692b}.TM.blf',\n",
       " 'NTUSER.DAT{53b39e88-18c4-11ea-a811-000d3aa4692b}.TMContainer00000000000000000001.regtrans-ms',\n",
       " 'NTUSER.DAT{53b39e88-18c4-11ea-a811-000d3aa4692b}.TMContainer00000000000000000002.regtrans-ms',\n",
       " 'ntuser.ini',\n",
       " 'OneDrive',\n",
       " 'PrintHood',\n",
       " 'PycharmProjects',\n",
       " 'python day1.ipynb',\n",
       " 'Recent',\n",
       " 'Roaming',\n",
       " 'Saved Games',\n",
       " 'Searches',\n",
       " 'SendTo',\n",
       " 'stock.py',\n",
       " 'Templates',\n",
       " 'Untitled.ipynb',\n",
       " 'Untitled1.ipynb',\n",
       " 'Untitled2.ipynb',\n",
       " 'Untitled3.ipynb',\n",
       " 'Videos',\n",
       " '__pycache__',\n",
       " '시작 메뉴']"
      ]
     },
     "execution_count": 4,
     "metadata": {},
     "output_type": "execute_result"
    }
   ],
   "source": [
    "os.listdir() #  위 경로에 있는 파일들 확인"
   ]
  },
  {
   "cell_type": "code",
   "execution_count": 6,
   "metadata": {},
   "outputs": [
    {
     "data": {
      "text/plain": [
       "['Adobe',\n",
       " 'AhnLab',\n",
       " 'Anaconda3',\n",
       " 'Application Data',\n",
       " 'Comms',\n",
       " 'Conexant',\n",
       " 'Desktop',\n",
       " 'Documents',\n",
       " 'ESTsoft',\n",
       " 'INCAInternet',\n",
       " 'Intel',\n",
       " 'Intel Corporation',\n",
       " 'Intel.sav',\n",
       " 'jupyter',\n",
       " 'LG Software',\n",
       " 'LGFaceInData',\n",
       " 'Microsoft',\n",
       " 'Microsoft OneDrive',\n",
       " 'Oracle',\n",
       " 'Package Cache',\n",
       " 'Packages',\n",
       " 'regid.1991-06.com.microsoft',\n",
       " 'Riot Games',\n",
       " 'Roaming',\n",
       " 'SAS',\n",
       " 'SignKorea',\n",
       " 'SoftwareDistribution',\n",
       " 'ssh',\n",
       " 'Start Menu',\n",
       " 'Templates',\n",
       " 'UIU',\n",
       " 'USOPrivate',\n",
       " 'USOShared',\n",
       " 'WindowsHolographicDevices',\n",
       " '바탕 화면',\n",
       " '시작 메뉴']"
      ]
     },
     "execution_count": 6,
     "metadata": {},
     "output_type": "execute_result"
    }
   ],
   "source": [
    "os.listdir('c:\\programdata') # 명시한 주소에 있는 파일이나 폴더 확인"
   ]
  },
  {
   "cell_type": "code",
   "execution_count": 9,
   "metadata": {},
   "outputs": [
    {
     "data": {
      "text/plain": [
       "['abc.py',\n",
       " 'aifc.py',\n",
       " 'antigravity.py',\n",
       " 'argparse.py',\n",
       " 'ast.py',\n",
       " 'asynchat.py',\n",
       " 'asyncio',\n",
       " 'asyncore.py',\n",
       " 'base64.py',\n",
       " 'bdb.py',\n",
       " 'binhex.py',\n",
       " 'bisect.py',\n",
       " 'bz2.py',\n",
       " 'calendar.py',\n",
       " 'cgi.py',\n",
       " 'cgitb.py',\n",
       " 'chunk.py',\n",
       " 'cmd.py',\n",
       " 'code.py',\n",
       " 'codecs.py',\n",
       " 'codeop.py',\n",
       " 'collections',\n",
       " 'colorsys.py',\n",
       " 'compileall.py',\n",
       " 'concurrent',\n",
       " 'configparser.py',\n",
       " 'contextlib.py',\n",
       " 'contextvars.py',\n",
       " 'copy.py',\n",
       " 'copyreg.py',\n",
       " 'cProfile.py',\n",
       " 'crypt.py',\n",
       " 'csv.py',\n",
       " 'ctypes',\n",
       " 'curses',\n",
       " 'dataclasses.py',\n",
       " 'datetime.py',\n",
       " 'dbm',\n",
       " 'decimal.py',\n",
       " 'difflib.py',\n",
       " 'dis.py',\n",
       " 'distutils',\n",
       " 'doctest.py',\n",
       " 'email',\n",
       " 'encodings',\n",
       " 'ensurepip',\n",
       " 'enum.py',\n",
       " 'filecmp.py',\n",
       " 'fileinput.py',\n",
       " 'fnmatch.py',\n",
       " 'formatter.py',\n",
       " 'fractions.py',\n",
       " 'ftplib.py',\n",
       " 'functools.py',\n",
       " 'genericpath.py',\n",
       " 'getopt.py',\n",
       " 'getpass.py',\n",
       " 'gettext.py',\n",
       " 'glob.py',\n",
       " 'graphlib.py',\n",
       " 'gzip.py',\n",
       " 'hashlib.py',\n",
       " 'heapq.py',\n",
       " 'hmac.py',\n",
       " 'html',\n",
       " 'http',\n",
       " 'idlelib',\n",
       " 'imaplib.py',\n",
       " 'imghdr.py',\n",
       " 'imp.py',\n",
       " 'importlib',\n",
       " 'inspect.py',\n",
       " 'io.py',\n",
       " 'ipaddress.py',\n",
       " 'json',\n",
       " 'keyword.py',\n",
       " 'lib2to3',\n",
       " 'linecache.py',\n",
       " 'locale.py',\n",
       " 'logging',\n",
       " 'lzma.py',\n",
       " 'mailbox.py',\n",
       " 'mailcap.py',\n",
       " 'mimetypes.py',\n",
       " 'modulefinder.py',\n",
       " 'msilib',\n",
       " 'multiprocessing',\n",
       " 'netrc.py',\n",
       " 'nntplib.py',\n",
       " 'ntpath.py',\n",
       " 'nturl2path.py',\n",
       " 'numbers.py',\n",
       " 'one.py',\n",
       " 'opcode.py',\n",
       " 'operator.py',\n",
       " 'optparse.py',\n",
       " 'os.py',\n",
       " 'pathlib.py',\n",
       " 'pdb.py',\n",
       " 'pickle.py',\n",
       " 'pickletools.py',\n",
       " 'pipes.py',\n",
       " 'pkgutil.py',\n",
       " 'platform.py',\n",
       " 'plistlib.py',\n",
       " 'poplib.py',\n",
       " 'posixpath.py',\n",
       " 'pprint.py',\n",
       " 'profile.py',\n",
       " 'pstats.py',\n",
       " 'pty.py',\n",
       " 'pyclbr.py',\n",
       " 'pydoc.py',\n",
       " 'pydoc_data',\n",
       " 'py_compile.py',\n",
       " 'queue.py',\n",
       " 'quopri.py',\n",
       " 'random.py',\n",
       " 're.py',\n",
       " 'reprlib.py',\n",
       " 'rlcompleter.py',\n",
       " 'runpy.py',\n",
       " 'sched.py',\n",
       " 'secrets.py',\n",
       " 'selectors.py',\n",
       " 'shelve.py',\n",
       " 'shlex.py',\n",
       " 'shutil.py',\n",
       " 'signal.py',\n",
       " 'site-packages',\n",
       " 'site.py',\n",
       " 'smtpd.py',\n",
       " 'smtplib.py',\n",
       " 'sndhdr.py',\n",
       " 'socket.py',\n",
       " 'socketserver.py',\n",
       " 'sqlite3',\n",
       " 'sre_compile.py',\n",
       " 'sre_constants.py',\n",
       " 'sre_parse.py',\n",
       " 'ssl.py',\n",
       " 'stat.py',\n",
       " 'statistics.py',\n",
       " 'string.py',\n",
       " 'stringprep.py',\n",
       " 'struct.py',\n",
       " 'subprocess.py',\n",
       " 'sunau.py',\n",
       " 'symbol.py',\n",
       " 'symtable.py',\n",
       " 'sysconfig.py',\n",
       " 'tabnanny.py',\n",
       " 'tarfile.py',\n",
       " 'telnetlib.py',\n",
       " 'tempfile.py',\n",
       " 'test',\n",
       " 'textwrap.py',\n",
       " 'this.py',\n",
       " 'threading.py',\n",
       " 'timeit.py',\n",
       " 'tkinter',\n",
       " 'token.py',\n",
       " 'tokenize.py',\n",
       " 'trace.py',\n",
       " 'traceback.py',\n",
       " 'tracemalloc.py',\n",
       " 'tty.py',\n",
       " 'turtle.py',\n",
       " 'turtledemo',\n",
       " 'types.py',\n",
       " 'typing.py',\n",
       " 'unittest',\n",
       " 'urllib',\n",
       " 'uu.py',\n",
       " 'uuid.py',\n",
       " 'venv',\n",
       " 'warnings.py',\n",
       " 'wave.py',\n",
       " 'weakref.py',\n",
       " 'webbrowser.py',\n",
       " 'wsgiref',\n",
       " 'xdrlib.py',\n",
       " 'xml',\n",
       " 'xmlrpc',\n",
       " 'zipapp.py',\n",
       " 'zipfile.py',\n",
       " 'zipimport.py',\n",
       " 'zoneinfo',\n",
       " '_aix_support.py',\n",
       " '_bootlocale.py',\n",
       " '_bootsubprocess.py',\n",
       " '_collections_abc.py',\n",
       " '_compat_pickle.py',\n",
       " '_compression.py',\n",
       " '_markupbase.py',\n",
       " '_osx_support.py',\n",
       " '_pydecimal.py',\n",
       " '_pyio.py',\n",
       " '_py_abc.py',\n",
       " '_sitebuiltins.py',\n",
       " '_strptime.py',\n",
       " '_threading_local.py',\n",
       " '_weakrefset.py',\n",
       " '__future__.py',\n",
       " '__phello__.foo.py',\n",
       " '__pycache__']"
      ]
     },
     "execution_count": 9,
     "metadata": {},
     "output_type": "execute_result"
    }
   ],
   "source": [
    "os.listdir('C:\\Python\\Python39\\Lib')"
   ]
  },
  {
   "cell_type": "code",
   "execution_count": 12,
   "metadata": {},
   "outputs": [
    {
     "name": "stdout",
     "output_type": "stream",
     "text": [
      "python3.dll\n",
      "python39.dll\n",
      "vcruntime140.dll\n",
      "vcruntime140_1.dll\n"
     ]
    }
   ],
   "source": [
    "for x in os.listdir('C:\\Python\\Python39'):\n",
    "    if x.endswith('dll'): # 끝이 exe로 끝나는 파일유형을 불러라\n",
    "        print(x)"
   ]
  },
  {
   "cell_type": "code",
   "execution_count": 1,
   "metadata": {},
   "outputs": [
    {
     "ename": "ModuleNotFoundError",
     "evalue": "No module named 'my_func'",
     "output_type": "error",
     "traceback": [
      "\u001b[1;31m---------------------------------------------------------------------------\u001b[0m",
      "\u001b[1;31mModuleNotFoundError\u001b[0m                       Traceback (most recent call last)",
      "\u001b[1;32m<ipython-input-1-911b2dbdee5e>\u001b[0m in \u001b[0;36m<module>\u001b[1;34m\u001b[0m\n\u001b[1;32m----> 1\u001b[1;33m \u001b[1;32mimport\u001b[0m \u001b[0mmy_func\u001b[0m\u001b[1;33m\u001b[0m\u001b[1;33m\u001b[0m\u001b[0m\n\u001b[0m",
      "\u001b[1;31mModuleNotFoundError\u001b[0m: No module named 'my_func'"
     ]
    }
   ],
   "source": [
    "import my_func"
   ]
  },
  {
   "cell_type": "code",
   "execution_count": 2,
   "metadata": {},
   "outputs": [],
   "source": [
    "import sys"
   ]
  },
  {
   "cell_type": "code",
   "execution_count": 3,
   "metadata": {},
   "outputs": [
    {
     "data": {
      "text/plain": [
       "['C:\\\\Users\\\\tmxhs',\n",
       " 'C:\\\\ProgramData\\\\Anaconda3\\\\python38.zip',\n",
       " 'C:\\\\ProgramData\\\\Anaconda3\\\\DLLs',\n",
       " 'C:\\\\ProgramData\\\\Anaconda3\\\\lib',\n",
       " 'C:\\\\ProgramData\\\\Anaconda3',\n",
       " '',\n",
       " 'C:\\\\Users\\\\tmxhs\\\\AppData\\\\Roaming\\\\Python\\\\Python38\\\\site-packages',\n",
       " 'C:\\\\ProgramData\\\\Anaconda3\\\\lib\\\\site-packages',\n",
       " 'C:\\\\ProgramData\\\\Anaconda3\\\\lib\\\\site-packages\\\\win32',\n",
       " 'C:\\\\ProgramData\\\\Anaconda3\\\\lib\\\\site-packages\\\\win32\\\\lib',\n",
       " 'C:\\\\ProgramData\\\\Anaconda3\\\\lib\\\\site-packages\\\\Pythonwin',\n",
       " 'C:\\\\ProgramData\\\\Anaconda3\\\\lib\\\\site-packages\\\\IPython\\\\extensions',\n",
       " 'C:\\\\Users\\\\tmxhs\\\\.ipython']"
      ]
     },
     "execution_count": 3,
     "metadata": {},
     "output_type": "execute_result"
    }
   ],
   "source": [
    "sys.path"
   ]
  },
  {
   "cell_type": "code",
   "execution_count": 4,
   "metadata": {},
   "outputs": [],
   "source": [
    "mkdir deagu # 대구만들기"
   ]
  },
  {
   "cell_type": "code",
   "execution_count": 6,
   "metadata": {},
   "outputs": [],
   "source": [
    "import os"
   ]
  },
  {
   "cell_type": "code",
   "execution_count": 7,
   "metadata": {},
   "outputs": [
    {
     "data": {
      "text/plain": [
       "'C:\\\\Users\\\\tmxhs'"
      ]
     },
     "execution_count": 7,
     "metadata": {},
     "output_type": "execute_result"
    }
   ],
   "source": [
    "os.getcwd() # 현재 주소 확인"
   ]
  },
  {
   "cell_type": "code",
   "execution_count": 10,
   "metadata": {},
   "outputs": [
    {
     "data": {
      "text/plain": [
       "['.idlerc',\n",
       " '.ipynb_checkpoints',\n",
       " '.ipython',\n",
       " '.jupyter',\n",
       " '.matplotlib',\n",
       " '.python_history',\n",
       " '.spyder-py3',\n",
       " '.vscode',\n",
       " '3D Objects',\n",
       " 'AppData',\n",
       " 'Application Data',\n",
       " 'Contacts',\n",
       " 'Cookies',\n",
       " 'day2.ipynb',\n",
       " 'day3.ipynb',\n",
       " 'deagu',\n",
       " 'Desktop',\n",
       " 'Documents',\n",
       " 'Downloads',\n",
       " 'Favorites',\n",
       " 'File specification',\n",
       " 'IntelGraphicsProfiles',\n",
       " 'Links',\n",
       " 'Local Settings',\n",
       " 'Music',\n",
       " 'My Documents',\n",
       " 'NetHood',\n",
       " 'NTUSER.DAT',\n",
       " 'ntuser.dat.LOG1',\n",
       " 'ntuser.dat.LOG2',\n",
       " 'NTUSER.DAT{53b39e88-18c4-11ea-a811-000d3aa4692b}.TM.blf',\n",
       " 'NTUSER.DAT{53b39e88-18c4-11ea-a811-000d3aa4692b}.TMContainer00000000000000000001.regtrans-ms',\n",
       " 'NTUSER.DAT{53b39e88-18c4-11ea-a811-000d3aa4692b}.TMContainer00000000000000000002.regtrans-ms',\n",
       " 'ntuser.ini',\n",
       " 'OneDrive',\n",
       " 'PrintHood',\n",
       " 'PycharmProjects',\n",
       " 'python day1.ipynb',\n",
       " 'Recent',\n",
       " 'Roaming',\n",
       " 'Saved Games',\n",
       " 'Searches',\n",
       " 'SendTo',\n",
       " 'seoul',\n",
       " 'stock.py',\n",
       " 'Templates',\n",
       " 'Untitled.ipynb',\n",
       " 'Untitled1.ipynb',\n",
       " 'Untitled2.ipynb',\n",
       " 'Untitled3.ipynb',\n",
       " 'Untitled4.ipynb',\n",
       " 'Videos',\n",
       " '__pycache__',\n",
       " '시작 메뉴']"
      ]
     },
     "execution_count": 10,
     "metadata": {},
     "output_type": "execute_result"
    }
   ],
   "source": [
    "os.listdir() # 잘 만들어졌는지 확인"
   ]
  },
  {
   "cell_type": "code",
   "execution_count": 14,
   "metadata": {},
   "outputs": [
    {
     "name": "stdout",
     "output_type": "stream",
     "text": [
      "C:\\Users\\tmxhs\\deagu\n"
     ]
    }
   ],
   "source": [
    "cd deagu"
   ]
  },
  {
   "cell_type": "code",
   "execution_count": 18,
   "metadata": {},
   "outputs": [
    {
     "data": {
      "text/plain": [
       "'C:\\\\Users\\\\tmxhs\\\\deagu'"
      ]
     },
     "execution_count": 18,
     "metadata": {},
     "output_type": "execute_result"
    }
   ],
   "source": [
    "os.getcwd()"
   ]
  },
  {
   "cell_type": "code",
   "execution_count": 20,
   "metadata": {},
   "outputs": [
    {
     "name": "stdout",
     "output_type": "stream",
     "text": [
      "C:\\Users\\tmxhs\n"
     ]
    }
   ],
   "source": [
    "cd .. # 상위 폴더로"
   ]
  },
  {
   "cell_type": "code",
   "execution_count": 22,
   "metadata": {},
   "outputs": [
    {
     "data": {
      "text/plain": [
       "'C:\\\\Users\\\\tmxhs'"
      ]
     },
     "execution_count": 22,
     "metadata": {},
     "output_type": "execute_result"
    }
   ],
   "source": [
    "os.getcwd()"
   ]
  },
  {
   "cell_type": "code",
   "execution_count": 24,
   "metadata": {},
   "outputs": [],
   "source": [
    "mkdir game1"
   ]
  },
  {
   "cell_type": "code",
   "execution_count": 25,
   "metadata": {},
   "outputs": [
    {
     "name": "stdout",
     "output_type": "stream",
     "text": [
      "C:\\Users\\tmxhs\\game1\n"
     ]
    }
   ],
   "source": [
    "cd game1"
   ]
  },
  {
   "cell_type": "code",
   "execution_count": 27,
   "metadata": {},
   "outputs": [],
   "source": [
    "mkdir sound"
   ]
  },
  {
   "cell_type": "code",
   "execution_count": 28,
   "metadata": {},
   "outputs": [],
   "source": [
    "mkdir graphic"
   ]
  },
  {
   "cell_type": "code",
   "execution_count": 29,
   "metadata": {},
   "outputs": [],
   "source": [
    "mkdir play"
   ]
  },
  {
   "cell_type": "code",
   "execution_count": 31,
   "metadata": {},
   "outputs": [
    {
     "data": {
      "text/plain": [
       "['.idlerc',\n",
       " '.ipynb_checkpoints',\n",
       " '.ipython',\n",
       " '.jupyter',\n",
       " '.matplotlib',\n",
       " '.python_history',\n",
       " '.spyder-py3',\n",
       " '.vscode',\n",
       " '3D Objects',\n",
       " 'AppData',\n",
       " 'Application Data',\n",
       " 'Contacts',\n",
       " 'Cookies',\n",
       " 'day2.ipynb',\n",
       " 'day3.ipynb',\n",
       " 'deagu',\n",
       " 'Desktop',\n",
       " 'Documents',\n",
       " 'Downloads',\n",
       " 'Favorites',\n",
       " 'File specification',\n",
       " 'game',\n",
       " 'game1',\n",
       " 'IntelGraphicsProfiles',\n",
       " 'Links',\n",
       " 'Local Settings',\n",
       " 'Music',\n",
       " 'My Documents',\n",
       " 'NetHood',\n",
       " 'NTUSER.DAT',\n",
       " 'ntuser.dat.LOG1',\n",
       " 'ntuser.dat.LOG2',\n",
       " 'NTUSER.DAT{53b39e88-18c4-11ea-a811-000d3aa4692b}.TM.blf',\n",
       " 'NTUSER.DAT{53b39e88-18c4-11ea-a811-000d3aa4692b}.TMContainer00000000000000000001.regtrans-ms',\n",
       " 'NTUSER.DAT{53b39e88-18c4-11ea-a811-000d3aa4692b}.TMContainer00000000000000000002.regtrans-ms',\n",
       " 'ntuser.ini',\n",
       " 'OneDrive',\n",
       " 'PrintHood',\n",
       " 'PycharmProjects',\n",
       " 'python day1.ipynb',\n",
       " 'Recent',\n",
       " 'Roaming',\n",
       " 'Saved Games',\n",
       " 'Searches',\n",
       " 'SendTo',\n",
       " 'seoul',\n",
       " 'stock.py',\n",
       " 'Templates',\n",
       " 'Untitled.ipynb',\n",
       " 'Untitled1.ipynb',\n",
       " 'Untitled2.ipynb',\n",
       " 'Untitled3.ipynb',\n",
       " 'Untitled4.ipynb',\n",
       " 'Videos',\n",
       " '__pycache__',\n",
       " '시작 메뉴']"
      ]
     },
     "execution_count": 31,
     "metadata": {},
     "output_type": "execute_result"
    }
   ],
   "source": [
    "os.listdir('C:\\\\Users\\\\tmxhs')"
   ]
  },
  {
   "cell_type": "code",
   "execution_count": 32,
   "metadata": {},
   "outputs": [
    {
     "data": {
      "text/plain": [
       "['graphic', 'play', 'sound']"
      ]
     },
     "execution_count": 32,
     "metadata": {},
     "output_type": "execute_result"
    }
   ],
   "source": [
    "os.listdir('C:\\\\Users\\\\tmxhs\\\\game1')"
   ]
  },
  {
   "cell_type": "code",
   "execution_count": 35,
   "metadata": {},
   "outputs": [
    {
     "name": "stdout",
     "output_type": "stream",
     "text": [
      "[19, 7, 3, 15, 42, 34]\n"
     ]
    }
   ],
   "source": [
    "import random\n",
    "\n",
    "result = []\n",
    "while len(result) < 6:\n",
    "    num = random.randint(1, 45) \n",
    "    if num not in result:\n",
    "        result.append(num)\n",
    "        \n",
    "print(result)"
   ]
  },
  {
   "cell_type": "code",
   "execution_count": null,
   "metadata": {},
   "outputs": [],
   "source": []
  }
 ],
 "metadata": {
  "kernelspec": {
   "display_name": "Python 3",
   "language": "python",
   "name": "python3"
  },
  "language_info": {
   "codemirror_mode": {
    "name": "ipython",
    "version": 3
   },
   "file_extension": ".py",
   "mimetype": "text/x-python",
   "name": "python",
   "nbconvert_exporter": "python",
   "pygments_lexer": "ipython3",
   "version": "3.8.5"
  }
 },
 "nbformat": 4,
 "nbformat_minor": 4
}
