{
 "cells": [
  {
   "cell_type": "code",
   "execution_count": 1,
   "metadata": {},
   "outputs": [
    {
     "name": "stdout",
     "output_type": "stream",
     "text": [
      "나이를 입력하시오50\n",
      "키를 입력하시오175\n",
      "키와 나이가 보통 이상 입니다.\n"
     ]
    }
   ],
   "source": [
    "# coding: euc-kr\n",
    "\n",
    "age = int(input(\"나이를 입력하시오\"))\n",
    "\n",
    "height = int(input(\"키를 입력하시오\"))\n",
    "\n",
    "if age >= 40:\n",
    "    if height >= 170:\n",
    "        print(\"키와 나이가 보통 이상 입니다.\")\n",
    "    else: \n",
    "        print(\"키가 보통입니다.\")\n",
    "else:\n",
    "    if height >= 175:\n",
    "        print(\"키가 보통 이상 입니다.\")\n",
    "    else:\n",
    "        print(\"키가 보통입니다.\")"
   ]
  },
  {
   "cell_type": "code",
   "execution_count": 12,
   "metadata": {},
   "outputs": [
    {
     "name": "stdout",
     "output_type": "stream",
     "text": [
      "총접을 입력해 주세요: 95\n",
      "수\n"
     ]
    }
   ],
   "source": [
    "# coding: euc-kr\n",
    "# & and, | or\n",
    "total = int(input(\"총접을 입력해 주세요: \"))\n",
    "\n",
    "if total >= 90:\n",
    "    print(\"수\")\n",
    "elif total >=80:\n",
    "    print(\"우\")\n",
    "elif total >=70:\n",
    "    print(\"미\")\n",
    "elif total >=60:\n",
    "    print(\"양\")\n",
    "else:\n",
    "    print(\"가\")"
   ]
  },
  {
   "cell_type": "code",
   "execution_count": 11,
   "metadata": {},
   "outputs": [],
   "source": [
    "import turtle\n",
    "t = turtle.Turtle() \n",
    "t.shape(\"turtle\")\n",
    "\n",
    "t.penup() # 펜을 올려서 그림이 그려지지 않게 한다.\n",
    "t.goto(100, 100) # 거북이를 (100, 100)으로 이동시킨다.\n",
    "t.write(\"거북이가 여기로 오면 양수입니다.\")\n",
    "t.goto(100, 0)\n",
    "t.write(\"거북이가 여기로 오면 0입니다.\")\n",
    "t.goto(100, -100)\n",
    "t.write(\"거북이가 여기로 오면 음수입니다.\")\n",
    "\n",
    "t.goto(0, 0) # (0,0) 위치로 거북이를 이동시킨다.\n",
    "t.pendown() # 펜을 내려서 그림이 그려지게 한다.\n",
    "s = turtle.textinput(\"\", \"숫자를 입력하시오: \")\n",
    "n = int(s)\n",
    "\n",
    "if(n > 0):\n",
    "    t.goto(100, 100)\n",
    "if(n == 0):\n",
    "    t.goto(100, 0)\n",
    "if(n < 0):\n",
    "    t.goto(100, -100)"
   ]
  },
  {
   "cell_type": "code",
   "execution_count": 21,
   "metadata": {},
   "outputs": [
    {
     "data": {
      "text/plain": [
       "[1, 2]"
      ]
     },
     "execution_count": 21,
     "metadata": {},
     "output_type": "execute_result"
    }
   ],
   "source": [
    "a = [1, 2, 3, 4, 5]\n",
    "a[0:2]"
   ]
  },
  {
   "cell_type": "code",
   "execution_count": 22,
   "metadata": {},
   "outputs": [
    {
     "data": {
      "text/plain": [
       "[1, 2]"
      ]
     },
     "execution_count": 22,
     "metadata": {},
     "output_type": "execute_result"
    }
   ],
   "source": [
    "b = a[:2]\n",
    "b"
   ]
  },
  {
   "cell_type": "code",
   "execution_count": null,
   "metadata": {},
   "outputs": [],
   "source": []
  }
 ],
 "metadata": {
  "kernelspec": {
   "display_name": "Python 3",
   "language": "python",
   "name": "python3"
  },
  "language_info": {
   "codemirror_mode": {
    "name": "ipython",
    "version": 3
   },
   "file_extension": ".py",
   "mimetype": "text/x-python",
   "name": "python",
   "nbconvert_exporter": "python",
   "pygments_lexer": "ipython3",
   "version": "3.8.5"
  }
 },
 "nbformat": 4,
 "nbformat_minor": 4
}
