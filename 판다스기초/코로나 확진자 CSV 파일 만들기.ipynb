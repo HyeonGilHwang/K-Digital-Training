{
 "cells": [
  {
   "cell_type": "code",
   "execution_count": 2,
   "metadata": {},
   "outputs": [],
   "source": [
    "from urllib.request import urlopen\n",
    "from urllib.parse import urlencode, unquote, quote_plus\n",
    "\n",
    "import pandas as pd\n",
    "import xmltodict\n",
    "import json"
   ]
  },
  {
   "cell_type": "markdown",
   "metadata": {},
   "source": [
    "##### 공공데이터활용지원센터_보건복지부 코로나19 감염 현황\n",
    "> 활용신청하기\n",
    "https://www.data.go.kr/tcs/dss/selectApiDataDetailView.do?publicDataPk=15043376"
   ]
  },
  {
   "cell_type": "code",
   "execution_count": 8,
   "metadata": {},
   "outputs": [
    {
     "name": "stdout",
     "output_type": "stream",
     "text": [
      "<class 'dict'>\n",
      "{'response': {'header': {'resultCode': '00', 'resultMsg': 'NORMAL SERVICE.'}, 'body': {'items': {'item': [{'accDefRate': '1.4573418044', 'accExamCnt': '5192119', 'accExamCompCnt': '5043978', 'careCnt': '12028', 'clearCnt': '60180', 'createDt': '2021-01-20 09:38:16.549', 'deathCnt': '1300', 'decideCnt': '73508', 'examCnt': '148141', 'resutlNegCnt': '4970470', 'seq': '392', 'stateDt': '20210120', 'stateTime': '00:00', 'updateDt': '2021-04-20 15:23:25.562'}, {'accDefRate': '1.4661941407', 'accExamCnt': '5140315', 'accExamCompCnt': '4985970', 'careCnt': '12353', 'clearCnt': '59468', 'createDt': '2021-01-19 09:39:49.588', 'deathCnt': '1283', 'decideCnt': '73104', 'examCnt': '154345', 'resutlNegCnt': '4912866', 'seq': '391', 'stateDt': '20210119', 'stateTime': '00:00', 'updateDt': '2021-04-20 15:23:34.538'}]}, 'numOfRows': '10', 'pageNo': '1', 'totalCount': '2'}}}\n"
     ]
    }
   ],
   "source": [
    "key='NqkriQhELlufFDf5SKdA3FmroggD3BKi3Ri9Kcbn%2BeVGUH9W%2FRPzrb%2Bm%2Bfln57RZtq2sTsjetWjYfrKaoS%2FejQ%3D%3D'\n",
    "url = f'http://openapi.data.go.kr/openapi/service/rest/Covid19/getCovid19InfStateJson?serviceKey={key}&'\n",
    "queryParams = urlencode({ quote_plus('pageNo') : 1, \n",
    "                          quote_plus('numOfRows') : 10,\n",
    "                          quote_plus('startCreateDt') : '20210119',\n",
    "                          quote_plus('endCreateDt') : '202101207'})\n",
    "url2 = url + queryParams\n",
    "response = urlopen(url2)\n",
    "# print(type(response)) # HTTPSresponse \n",
    "results = response.read().decode(\"utf-8\")\n",
    "# print(type(results))   # str\n",
    "results_to_json = xmltodict.parse(results)\n",
    "data = json.loads(json.dumps(results_to_json))\n",
    "print(type(data))   # dic\n",
    "print(data)   "
   ]
  },
  {
   "cell_type": "markdown",
   "metadata": {},
   "source": [
    "위의 데이터를 분석해서 아래의 형태의 CSV 파일을 만들자\n",
    "```\n",
    "날짜,누적확진자,격리해제환자,치료중환자,사망자수\n",
    "20210119,73104,59468,12353,1283\n",
    "20210120,73508,60180,12028,1300\n",
    "\n",
    "```"
   ]
  },
  {
   "cell_type": "code",
   "execution_count": 4,
   "metadata": {},
   "outputs": [],
   "source": [
    "corona=data['response']['body']['items']['item']\n",
    "#추가하고 싶은 리스트 생성\n",
    "Date=[]\n",
    "Cnt=[]\n",
    "clear_cnt=[]\n",
    "care_cnt=[]\n",
    "death_cnt=[]\n",
    "exam_cnt=[]     # examCnt   검사중\n",
    "for i in corona:\n",
    "    Date.append(i['stateDt'])  #'stateDt': '20200801'\n",
    "    Cnt.append(i['decideCnt'])  # decideCnt': '14336'   누적확진자\n",
    "    clear_cnt.append(i['clearCnt'])   # 13233           격리 해제환자\n",
    "    care_cnt.append(i['careCnt'])     # 802             치료중 환자\n",
    "    death_cnt.append(i['deathCnt'])    #301             사망자 수\n"
   ]
  },
  {
   "cell_type": "code",
   "execution_count": 5,
   "metadata": {},
   "outputs": [
    {
     "data": {
      "text/html": [
       "<div>\n",
       "<style scoped>\n",
       "    .dataframe tbody tr th:only-of-type {\n",
       "        vertical-align: middle;\n",
       "    }\n",
       "\n",
       "    .dataframe tbody tr th {\n",
       "        vertical-align: top;\n",
       "    }\n",
       "\n",
       "    .dataframe thead th {\n",
       "        text-align: right;\n",
       "    }\n",
       "</style>\n",
       "<table border=\"1\" class=\"dataframe\">\n",
       "  <thead>\n",
       "    <tr style=\"text-align: right;\">\n",
       "      <th></th>\n",
       "      <th>날짜</th>\n",
       "      <th>누적확진자</th>\n",
       "      <th>격리해제환자</th>\n",
       "      <th>치료중환자</th>\n",
       "      <th>사망자수</th>\n",
       "    </tr>\n",
       "  </thead>\n",
       "  <tbody>\n",
       "    <tr>\n",
       "      <th>0</th>\n",
       "      <td>20210120</td>\n",
       "      <td>73508</td>\n",
       "      <td>60180</td>\n",
       "      <td>12028</td>\n",
       "      <td>1300</td>\n",
       "    </tr>\n",
       "    <tr>\n",
       "      <th>1</th>\n",
       "      <td>20210119</td>\n",
       "      <td>73104</td>\n",
       "      <td>59468</td>\n",
       "      <td>12353</td>\n",
       "      <td>1283</td>\n",
       "    </tr>\n",
       "  </tbody>\n",
       "</table>\n",
       "</div>"
      ],
      "text/plain": [
       "         날짜  누적확진자 격리해제환자  치료중환자  사망자수\n",
       "0  20210120  73508  60180  12028  1300\n",
       "1  20210119  73104  59468  12353  1283"
      ]
     },
     "execution_count": 5,
     "metadata": {},
     "output_type": "execute_result"
    }
   ],
   "source": [
    "df=pd.DataFrame([Date,Cnt,clear_cnt,care_cnt,death_cnt]).T\n",
    "df.columns=['날짜','누적확진자','격리해제환자','치료중환자','사망자수'] \n",
    "df"
   ]
  },
  {
   "cell_type": "code",
   "execution_count": 6,
   "metadata": {},
   "outputs": [
    {
     "data": {
      "text/html": [
       "<div>\n",
       "<style scoped>\n",
       "    .dataframe tbody tr th:only-of-type {\n",
       "        vertical-align: middle;\n",
       "    }\n",
       "\n",
       "    .dataframe tbody tr th {\n",
       "        vertical-align: top;\n",
       "    }\n",
       "\n",
       "    .dataframe thead th {\n",
       "        text-align: right;\n",
       "    }\n",
       "</style>\n",
       "<table border=\"1\" class=\"dataframe\">\n",
       "  <thead>\n",
       "    <tr style=\"text-align: right;\">\n",
       "      <th></th>\n",
       "      <th>날짜</th>\n",
       "      <th>누적확진자</th>\n",
       "      <th>격리해제환자</th>\n",
       "      <th>치료중환자</th>\n",
       "      <th>사망자수</th>\n",
       "    </tr>\n",
       "  </thead>\n",
       "  <tbody>\n",
       "    <tr>\n",
       "      <th>1</th>\n",
       "      <td>20210119</td>\n",
       "      <td>73104</td>\n",
       "      <td>59468</td>\n",
       "      <td>12353</td>\n",
       "      <td>1283</td>\n",
       "    </tr>\n",
       "    <tr>\n",
       "      <th>0</th>\n",
       "      <td>20210120</td>\n",
       "      <td>73508</td>\n",
       "      <td>60180</td>\n",
       "      <td>12028</td>\n",
       "      <td>1300</td>\n",
       "    </tr>\n",
       "  </tbody>\n",
       "</table>\n",
       "</div>"
      ],
      "text/plain": [
       "         날짜  누적확진자 격리해제환자  치료중환자  사망자수\n",
       "1  20210119  73104  59468  12353  1283\n",
       "0  20210120  73508  60180  12028  1300"
      ]
     },
     "execution_count": 6,
     "metadata": {},
     "output_type": "execute_result"
    }
   ],
   "source": [
    "df=df.sort_values(by='날짜', ascending=True)\n",
    "df"
   ]
  },
  {
   "cell_type": "code",
   "execution_count": 7,
   "metadata": {},
   "outputs": [
    {
     "data": {
      "text/html": [
       "<div>\n",
       "<style scoped>\n",
       "    .dataframe tbody tr th:only-of-type {\n",
       "        vertical-align: middle;\n",
       "    }\n",
       "\n",
       "    .dataframe tbody tr th {\n",
       "        vertical-align: top;\n",
       "    }\n",
       "\n",
       "    .dataframe thead th {\n",
       "        text-align: right;\n",
       "    }\n",
       "</style>\n",
       "<table border=\"1\" class=\"dataframe\">\n",
       "  <thead>\n",
       "    <tr style=\"text-align: right;\">\n",
       "      <th></th>\n",
       "      <th>누적확진자</th>\n",
       "      <th>격리해제환자</th>\n",
       "      <th>치료중환자</th>\n",
       "      <th>사망자수</th>\n",
       "    </tr>\n",
       "    <tr>\n",
       "      <th>날짜</th>\n",
       "      <th></th>\n",
       "      <th></th>\n",
       "      <th></th>\n",
       "      <th></th>\n",
       "    </tr>\n",
       "  </thead>\n",
       "  <tbody>\n",
       "    <tr>\n",
       "      <th>20210119</th>\n",
       "      <td>73104</td>\n",
       "      <td>59468</td>\n",
       "      <td>12353</td>\n",
       "      <td>1283</td>\n",
       "    </tr>\n",
       "    <tr>\n",
       "      <th>20210120</th>\n",
       "      <td>73508</td>\n",
       "      <td>60180</td>\n",
       "      <td>12028</td>\n",
       "      <td>1300</td>\n",
       "    </tr>\n",
       "  </tbody>\n",
       "</table>\n",
       "</div>"
      ],
      "text/plain": [
       "          누적확진자 격리해제환자  치료중환자  사망자수\n",
       "날짜                                 \n",
       "20210119  73104  59468  12353  1283\n",
       "20210120  73508  60180  12028  1300"
      ]
     },
     "execution_count": 7,
     "metadata": {},
     "output_type": "execute_result"
    }
   ],
   "source": [
    "df.set_index('날짜', inplace=True)\n",
    "df"
   ]
  },
  {
   "cell_type": "code",
   "execution_count": null,
   "metadata": {},
   "outputs": [],
   "source": [
    "df.to_csv('sample.csv')"
   ]
  },
  {
   "cell_type": "code",
   "execution_count": null,
   "metadata": {},
   "outputs": [],
   "source": []
  },
  {
   "cell_type": "code",
   "execution_count": null,
   "metadata": {},
   "outputs": [],
   "source": [
    "# column 명칭 알기 쉽게 바꾸기\n",
    "col_names = {\n",
    "    'accDefRate': '누적 환진률',\n",
    "    'accExamCnt': '누적 검사 수',\n",
    "    'accExamCompCnt': '누적 검사 완료 수',\n",
    "    'careCnt': '치료중 환자 수',\n",
    "    'clearCnt': '격리해제 수',\n",
    "    'createDt': '등록일시분초',\n",
    "    'deathCnt': '사망자 수',\n",
    "    'decideCnt': '확진자 수',\n",
    "    'examCnt': '검사진행 수',\n",
    "    'resutlNegCnt':'결과 음성 수',\n",
    "    'seq': '게시글번호(감염현황 고유값)',\n",
    "    'stateDt': '기준일',\n",
    "    'stateTime': '기준시간',\n",
    "    'updateDt': '수정일시분초',\n",
    "}"
   ]
  },
  {
   "cell_type": "code",
   "execution_count": null,
   "metadata": {},
   "outputs": [],
   "source": []
  }
 ],
 "metadata": {
  "kernelspec": {
   "display_name": "Python 3",
   "language": "python",
   "name": "python3"
  },
  "language_info": {
   "codemirror_mode": {
    "name": "ipython",
    "version": 3
   },
   "file_extension": ".py",
   "mimetype": "text/x-python",
   "name": "python",
   "nbconvert_exporter": "python",
   "pygments_lexer": "ipython3",
   "version": "3.8.5"
  },
  "toc": {
   "base_numbering": 1,
   "nav_menu": {},
   "number_sections": true,
   "sideBar": true,
   "skip_h1_title": false,
   "title_cell": "Table of Contents",
   "title_sidebar": "Contents",
   "toc_cell": false,
   "toc_position": {},
   "toc_section_display": true,
   "toc_window_display": false
  }
 },
 "nbformat": 4,
 "nbformat_minor": 4
}
