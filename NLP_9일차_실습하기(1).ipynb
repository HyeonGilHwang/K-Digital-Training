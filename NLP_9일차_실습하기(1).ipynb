{
  "nbformat": 4,
  "nbformat_minor": 0,
  "metadata": {
    "colab": {
      "name": "NLP_9일차 실습하기(1).ipynb",
      "provenance": [],
      "collapsed_sections": [],
      "mount_file_id": "1kBGGMVYaPNXgpDhSKaX6V53L5_qHptH_",
      "authorship_tag": "ABX9TyMKbQ4J9tI3I9U+oeOkRHRS",
      "include_colab_link": true
    },
    "kernelspec": {
      "name": "python3",
      "display_name": "Python 3"
    },
    "language_info": {
      "name": "python"
    },
    "accelerator": "GPU"
  },
  "cells": [
    {
      "cell_type": "markdown",
      "metadata": {
        "id": "view-in-github",
        "colab_type": "text"
      },
      "source": [
        "<a href=\"https://colab.research.google.com/github/HyeonGilHwang/K-Digital-Training/blob/main/NLP_9%EC%9D%BC%EC%B0%A8_%EC%8B%A4%EC%8A%B5%ED%95%98%EA%B8%B0(1).ipynb\" target=\"_parent\"><img src=\"https://colab.research.google.com/assets/colab-badge.svg\" alt=\"Open In Colab\"/></a>"
      ]
    },
    {
      "cell_type": "markdown",
      "metadata": {
        "id": "9F26xW6Whk8S"
      },
      "source": [
        "## BILSTM + CRF 개체명 인식"
      ]
    },
    {
      "cell_type": "code",
      "metadata": {
        "colab": {
          "base_uri": "https://localhost:8080/"
        },
        "id": "jI3YkXG4fecM",
        "outputId": "72e70f71-1fb4-49d9-d294-7dc8f234ece5"
      },
      "source": [
        "!pip install tensorflow==1.14.0\n",
        "!pip install keras==2.2.4\n",
        "!pip install tensorflow-gpu==1.14.0"
      ],
      "execution_count": 1,
      "outputs": [
        {
          "output_type": "stream",
          "text": [
            "Collecting tensorflow==1.14.0\n",
            "\u001b[?25l  Downloading https://files.pythonhosted.org/packages/f4/28/96efba1a516cdacc2e2d6d081f699c001d414cc8ca3250e6d59ae657eb2b/tensorflow-1.14.0-cp37-cp37m-manylinux1_x86_64.whl (109.3MB)\n",
            "\u001b[K     |████████████████████████████████| 109.3MB 36kB/s \n",
            "\u001b[?25hRequirement already satisfied: termcolor>=1.1.0 in /usr/local/lib/python3.7/dist-packages (from tensorflow==1.14.0) (1.1.0)\n",
            "Requirement already satisfied: absl-py>=0.7.0 in /usr/local/lib/python3.7/dist-packages (from tensorflow==1.14.0) (0.12.0)\n",
            "Requirement already satisfied: google-pasta>=0.1.6 in /usr/local/lib/python3.7/dist-packages (from tensorflow==1.14.0) (0.2.0)\n",
            "Collecting tensorboard<1.15.0,>=1.14.0\n",
            "\u001b[?25l  Downloading https://files.pythonhosted.org/packages/91/2d/2ed263449a078cd9c8a9ba50ebd50123adf1f8cfbea1492f9084169b89d9/tensorboard-1.14.0-py3-none-any.whl (3.1MB)\n",
            "\u001b[K     |████████████████████████████████| 3.2MB 26.2MB/s \n",
            "\u001b[?25hRequirement already satisfied: six>=1.10.0 in /usr/local/lib/python3.7/dist-packages (from tensorflow==1.14.0) (1.15.0)\n",
            "Requirement already satisfied: wrapt>=1.11.1 in /usr/local/lib/python3.7/dist-packages (from tensorflow==1.14.0) (1.12.1)\n",
            "Requirement already satisfied: wheel>=0.26 in /usr/local/lib/python3.7/dist-packages (from tensorflow==1.14.0) (0.36.2)\n",
            "Requirement already satisfied: keras-preprocessing>=1.0.5 in /usr/local/lib/python3.7/dist-packages (from tensorflow==1.14.0) (1.1.2)\n",
            "Requirement already satisfied: numpy<2.0,>=1.14.5 in /usr/local/lib/python3.7/dist-packages (from tensorflow==1.14.0) (1.19.5)\n",
            "Collecting tensorflow-estimator<1.15.0rc0,>=1.14.0rc0\n",
            "\u001b[?25l  Downloading https://files.pythonhosted.org/packages/3c/d5/21860a5b11caf0678fbc8319341b0ae21a07156911132e0e71bffed0510d/tensorflow_estimator-1.14.0-py2.py3-none-any.whl (488kB)\n",
            "\u001b[K     |████████████████████████████████| 491kB 39.9MB/s \n",
            "\u001b[?25hRequirement already satisfied: gast>=0.2.0 in /usr/local/lib/python3.7/dist-packages (from tensorflow==1.14.0) (0.4.0)\n",
            "Requirement already satisfied: protobuf>=3.6.1 in /usr/local/lib/python3.7/dist-packages (from tensorflow==1.14.0) (3.12.4)\n",
            "Requirement already satisfied: grpcio>=1.8.6 in /usr/local/lib/python3.7/dist-packages (from tensorflow==1.14.0) (1.34.1)\n",
            "Collecting keras-applications>=1.0.6\n",
            "\u001b[?25l  Downloading https://files.pythonhosted.org/packages/71/e3/19762fdfc62877ae9102edf6342d71b28fbfd9dea3d2f96a882ce099b03f/Keras_Applications-1.0.8-py3-none-any.whl (50kB)\n",
            "\u001b[K     |████████████████████████████████| 51kB 6.7MB/s \n",
            "\u001b[?25hRequirement already satisfied: astor>=0.6.0 in /usr/local/lib/python3.7/dist-packages (from tensorflow==1.14.0) (0.8.1)\n",
            "Requirement already satisfied: werkzeug>=0.11.15 in /usr/local/lib/python3.7/dist-packages (from tensorboard<1.15.0,>=1.14.0->tensorflow==1.14.0) (1.0.1)\n",
            "Requirement already satisfied: setuptools>=41.0.0 in /usr/local/lib/python3.7/dist-packages (from tensorboard<1.15.0,>=1.14.0->tensorflow==1.14.0) (57.0.0)\n",
            "Requirement already satisfied: markdown>=2.6.8 in /usr/local/lib/python3.7/dist-packages (from tensorboard<1.15.0,>=1.14.0->tensorflow==1.14.0) (3.3.4)\n",
            "Requirement already satisfied: h5py in /usr/local/lib/python3.7/dist-packages (from keras-applications>=1.0.6->tensorflow==1.14.0) (3.1.0)\n",
            "Requirement already satisfied: importlib-metadata; python_version < \"3.8\" in /usr/local/lib/python3.7/dist-packages (from markdown>=2.6.8->tensorboard<1.15.0,>=1.14.0->tensorflow==1.14.0) (4.5.0)\n",
            "Requirement already satisfied: cached-property; python_version < \"3.8\" in /usr/local/lib/python3.7/dist-packages (from h5py->keras-applications>=1.0.6->tensorflow==1.14.0) (1.5.2)\n",
            "Requirement already satisfied: zipp>=0.5 in /usr/local/lib/python3.7/dist-packages (from importlib-metadata; python_version < \"3.8\"->markdown>=2.6.8->tensorboard<1.15.0,>=1.14.0->tensorflow==1.14.0) (3.4.1)\n",
            "Requirement already satisfied: typing-extensions>=3.6.4; python_version < \"3.8\" in /usr/local/lib/python3.7/dist-packages (from importlib-metadata; python_version < \"3.8\"->markdown>=2.6.8->tensorboard<1.15.0,>=1.14.0->tensorflow==1.14.0) (3.7.4.3)\n",
            "\u001b[31mERROR: kapre 0.3.5 has requirement tensorflow>=2.0.0, but you'll have tensorflow 1.14.0 which is incompatible.\u001b[0m\n",
            "Installing collected packages: tensorboard, tensorflow-estimator, keras-applications, tensorflow\n",
            "  Found existing installation: tensorboard 2.5.0\n",
            "    Uninstalling tensorboard-2.5.0:\n",
            "      Successfully uninstalled tensorboard-2.5.0\n",
            "  Found existing installation: tensorflow-estimator 2.5.0\n",
            "    Uninstalling tensorflow-estimator-2.5.0:\n",
            "      Successfully uninstalled tensorflow-estimator-2.5.0\n",
            "  Found existing installation: tensorflow 2.5.0\n",
            "    Uninstalling tensorflow-2.5.0:\n",
            "      Successfully uninstalled tensorflow-2.5.0\n",
            "Successfully installed keras-applications-1.0.8 tensorboard-1.14.0 tensorflow-1.14.0 tensorflow-estimator-1.14.0\n",
            "Collecting keras==2.2.4\n",
            "\u001b[?25l  Downloading https://files.pythonhosted.org/packages/5e/10/aa32dad071ce52b5502266b5c659451cfd6ffcbf14e6c8c4f16c0ff5aaab/Keras-2.2.4-py2.py3-none-any.whl (312kB)\n",
            "\u001b[K     |████████████████████████████████| 317kB 8.4MB/s \n",
            "\u001b[?25hRequirement already satisfied: pyyaml in /usr/local/lib/python3.7/dist-packages (from keras==2.2.4) (3.13)\n",
            "Requirement already satisfied: keras-applications>=1.0.6 in /usr/local/lib/python3.7/dist-packages (from keras==2.2.4) (1.0.8)\n",
            "Requirement already satisfied: keras-preprocessing>=1.0.5 in /usr/local/lib/python3.7/dist-packages (from keras==2.2.4) (1.1.2)\n",
            "Requirement already satisfied: scipy>=0.14 in /usr/local/lib/python3.7/dist-packages (from keras==2.2.4) (1.4.1)\n",
            "Requirement already satisfied: h5py in /usr/local/lib/python3.7/dist-packages (from keras==2.2.4) (3.1.0)\n",
            "Requirement already satisfied: six>=1.9.0 in /usr/local/lib/python3.7/dist-packages (from keras==2.2.4) (1.15.0)\n",
            "Requirement already satisfied: numpy>=1.9.1 in /usr/local/lib/python3.7/dist-packages (from keras==2.2.4) (1.19.5)\n",
            "Requirement already satisfied: cached-property; python_version < \"3.8\" in /usr/local/lib/python3.7/dist-packages (from h5py->keras==2.2.4) (1.5.2)\n",
            "Installing collected packages: keras\n",
            "  Found existing installation: Keras 2.4.3\n",
            "    Uninstalling Keras-2.4.3:\n",
            "      Successfully uninstalled Keras-2.4.3\n",
            "Successfully installed keras-2.2.4\n",
            "Collecting tensorflow-gpu==1.14.0\n",
            "\u001b[?25l  Downloading https://files.pythonhosted.org/packages/32/67/559ca8408431c37ad3a17e859c8c291ea82f092354074baef482b98ffb7b/tensorflow_gpu-1.14.0-cp37-cp37m-manylinux1_x86_64.whl (377.1MB)\n",
            "\u001b[K     |████████████████████████████████| 377.1MB 41kB/s \n",
            "\u001b[?25hRequirement already satisfied: termcolor>=1.1.0 in /usr/local/lib/python3.7/dist-packages (from tensorflow-gpu==1.14.0) (1.1.0)\n",
            "Requirement already satisfied: keras-preprocessing>=1.0.5 in /usr/local/lib/python3.7/dist-packages (from tensorflow-gpu==1.14.0) (1.1.2)\n",
            "Requirement already satisfied: wheel>=0.26 in /usr/local/lib/python3.7/dist-packages (from tensorflow-gpu==1.14.0) (0.36.2)\n",
            "Requirement already satisfied: six>=1.10.0 in /usr/local/lib/python3.7/dist-packages (from tensorflow-gpu==1.14.0) (1.15.0)\n",
            "Requirement already satisfied: absl-py>=0.7.0 in /usr/local/lib/python3.7/dist-packages (from tensorflow-gpu==1.14.0) (0.12.0)\n",
            "Requirement already satisfied: keras-applications>=1.0.6 in /usr/local/lib/python3.7/dist-packages (from tensorflow-gpu==1.14.0) (1.0.8)\n",
            "Requirement already satisfied: google-pasta>=0.1.6 in /usr/local/lib/python3.7/dist-packages (from tensorflow-gpu==1.14.0) (0.2.0)\n",
            "Requirement already satisfied: protobuf>=3.6.1 in /usr/local/lib/python3.7/dist-packages (from tensorflow-gpu==1.14.0) (3.12.4)\n",
            "Requirement already satisfied: astor>=0.6.0 in /usr/local/lib/python3.7/dist-packages (from tensorflow-gpu==1.14.0) (0.8.1)\n",
            "Requirement already satisfied: gast>=0.2.0 in /usr/local/lib/python3.7/dist-packages (from tensorflow-gpu==1.14.0) (0.4.0)\n",
            "Requirement already satisfied: tensorflow-estimator<1.15.0rc0,>=1.14.0rc0 in /usr/local/lib/python3.7/dist-packages (from tensorflow-gpu==1.14.0) (1.14.0)\n",
            "Requirement already satisfied: tensorboard<1.15.0,>=1.14.0 in /usr/local/lib/python3.7/dist-packages (from tensorflow-gpu==1.14.0) (1.14.0)\n",
            "Requirement already satisfied: numpy<2.0,>=1.14.5 in /usr/local/lib/python3.7/dist-packages (from tensorflow-gpu==1.14.0) (1.19.5)\n",
            "Requirement already satisfied: wrapt>=1.11.1 in /usr/local/lib/python3.7/dist-packages (from tensorflow-gpu==1.14.0) (1.12.1)\n",
            "Requirement already satisfied: grpcio>=1.8.6 in /usr/local/lib/python3.7/dist-packages (from tensorflow-gpu==1.14.0) (1.34.1)\n",
            "Requirement already satisfied: h5py in /usr/local/lib/python3.7/dist-packages (from keras-applications>=1.0.6->tensorflow-gpu==1.14.0) (3.1.0)\n",
            "Requirement already satisfied: setuptools in /usr/local/lib/python3.7/dist-packages (from protobuf>=3.6.1->tensorflow-gpu==1.14.0) (57.0.0)\n",
            "Requirement already satisfied: werkzeug>=0.11.15 in /usr/local/lib/python3.7/dist-packages (from tensorboard<1.15.0,>=1.14.0->tensorflow-gpu==1.14.0) (1.0.1)\n",
            "Requirement already satisfied: markdown>=2.6.8 in /usr/local/lib/python3.7/dist-packages (from tensorboard<1.15.0,>=1.14.0->tensorflow-gpu==1.14.0) (3.3.4)\n",
            "Requirement already satisfied: cached-property; python_version < \"3.8\" in /usr/local/lib/python3.7/dist-packages (from h5py->keras-applications>=1.0.6->tensorflow-gpu==1.14.0) (1.5.2)\n",
            "Requirement already satisfied: importlib-metadata; python_version < \"3.8\" in /usr/local/lib/python3.7/dist-packages (from markdown>=2.6.8->tensorboard<1.15.0,>=1.14.0->tensorflow-gpu==1.14.0) (4.5.0)\n",
            "Requirement already satisfied: zipp>=0.5 in /usr/local/lib/python3.7/dist-packages (from importlib-metadata; python_version < \"3.8\"->markdown>=2.6.8->tensorboard<1.15.0,>=1.14.0->tensorflow-gpu==1.14.0) (3.4.1)\n",
            "Requirement already satisfied: typing-extensions>=3.6.4; python_version < \"3.8\" in /usr/local/lib/python3.7/dist-packages (from importlib-metadata; python_version < \"3.8\"->markdown>=2.6.8->tensorboard<1.15.0,>=1.14.0->tensorflow-gpu==1.14.0) (3.7.4.3)\n",
            "Installing collected packages: tensorflow-gpu\n",
            "Successfully installed tensorflow-gpu-1.14.0\n"
          ],
          "name": "stdout"
        }
      ]
    },
    {
      "cell_type": "code",
      "metadata": {
        "colab": {
          "base_uri": "https://localhost:8080/"
        },
        "id": "R6emD9lshslx",
        "outputId": "0b3bddc8-01d2-4584-84ac-e0fcc23aee60"
      },
      "source": [
        "!pip install git+https://www.github.com/keras-team/keras-contrib.git"
      ],
      "execution_count": 2,
      "outputs": [
        {
          "output_type": "stream",
          "text": [
            "Collecting git+https://www.github.com/keras-team/keras-contrib.git\n",
            "  Cloning https://www.github.com/keras-team/keras-contrib.git to /tmp/pip-req-build-f4g1_qux\n",
            "  Running command git clone -q https://www.github.com/keras-team/keras-contrib.git /tmp/pip-req-build-f4g1_qux\n",
            "Requirement already satisfied: keras in /usr/local/lib/python3.7/dist-packages (from keras-contrib==2.0.8) (2.2.4)\n",
            "Requirement already satisfied: pyyaml in /usr/local/lib/python3.7/dist-packages (from keras->keras-contrib==2.0.8) (3.13)\n",
            "Requirement already satisfied: h5py in /usr/local/lib/python3.7/dist-packages (from keras->keras-contrib==2.0.8) (3.1.0)\n",
            "Requirement already satisfied: six>=1.9.0 in /usr/local/lib/python3.7/dist-packages (from keras->keras-contrib==2.0.8) (1.15.0)\n",
            "Requirement already satisfied: scipy>=0.14 in /usr/local/lib/python3.7/dist-packages (from keras->keras-contrib==2.0.8) (1.4.1)\n",
            "Requirement already satisfied: keras-applications>=1.0.6 in /usr/local/lib/python3.7/dist-packages (from keras->keras-contrib==2.0.8) (1.0.8)\n",
            "Requirement already satisfied: numpy>=1.9.1 in /usr/local/lib/python3.7/dist-packages (from keras->keras-contrib==2.0.8) (1.19.5)\n",
            "Requirement already satisfied: keras-preprocessing>=1.0.5 in /usr/local/lib/python3.7/dist-packages (from keras->keras-contrib==2.0.8) (1.1.2)\n",
            "Requirement already satisfied: cached-property; python_version < \"3.8\" in /usr/local/lib/python3.7/dist-packages (from h5py->keras->keras-contrib==2.0.8) (1.5.2)\n",
            "Building wheels for collected packages: keras-contrib\n",
            "  Building wheel for keras-contrib (setup.py) ... \u001b[?25l\u001b[?25hdone\n",
            "  Created wheel for keras-contrib: filename=keras_contrib-2.0.8-cp37-none-any.whl size=101078 sha256=e650f1bcea9314783a418b7837415c3d1043ebd5681849c25daed1220deed695\n",
            "  Stored in directory: /tmp/pip-ephem-wheel-cache-m9osvxvp/wheels/11/27/c8/4ed56de7b55f4f61244e2dc6ef3cdbaff2692527a2ce6502ba\n",
            "Successfully built keras-contrib\n",
            "Installing collected packages: keras-contrib\n",
            "Successfully installed keras-contrib-2.0.8\n"
          ],
          "name": "stdout"
        }
      ]
    },
    {
      "cell_type": "code",
      "metadata": {
        "id": "ViUa2AX9iSOG"
      },
      "source": [
        "import pandas as pd\n",
        "import numpy as np\n",
        "import matplotlib.pyplot as plt\n",
        "from tensorflow.keras.preprocessing.text import Tokenizer\n",
        "from tensorflow.keras.preprocessing.sequence import pad_sequences\n",
        "from sklearn.model_selection import train_test_split\n",
        "from tensorflow.keras.utils import to_categorical"
      ],
      "execution_count": 3,
      "outputs": []
    },
    {
      "cell_type": "code",
      "metadata": {
        "id": "ey9WInfDimos"
      },
      "source": [
        "data = pd.read_csv('/content/drive/MyDrive/dataset/ner_dataset.csv', encoding = 'latin1')"
      ],
      "execution_count": 5,
      "outputs": []
    },
    {
      "cell_type": "code",
      "metadata": {
        "colab": {
          "base_uri": "https://localhost:8080/",
          "height": 205
        },
        "id": "G8E-BjKxiwRf",
        "outputId": "a61e08bb-22c6-4a95-ddc1-bec1203e2e78"
      },
      "source": [
        "data[:5]"
      ],
      "execution_count": 6,
      "outputs": [
        {
          "output_type": "execute_result",
          "data": {
            "text/html": [
              "<div>\n",
              "<style scoped>\n",
              "    .dataframe tbody tr th:only-of-type {\n",
              "        vertical-align: middle;\n",
              "    }\n",
              "\n",
              "    .dataframe tbody tr th {\n",
              "        vertical-align: top;\n",
              "    }\n",
              "\n",
              "    .dataframe thead th {\n",
              "        text-align: right;\n",
              "    }\n",
              "</style>\n",
              "<table border=\"1\" class=\"dataframe\">\n",
              "  <thead>\n",
              "    <tr style=\"text-align: right;\">\n",
              "      <th></th>\n",
              "      <th>Sentence #</th>\n",
              "      <th>Word</th>\n",
              "      <th>POS</th>\n",
              "      <th>Tag</th>\n",
              "    </tr>\n",
              "  </thead>\n",
              "  <tbody>\n",
              "    <tr>\n",
              "      <th>0</th>\n",
              "      <td>Sentence: 1</td>\n",
              "      <td>Thousands</td>\n",
              "      <td>NNS</td>\n",
              "      <td>O</td>\n",
              "    </tr>\n",
              "    <tr>\n",
              "      <th>1</th>\n",
              "      <td>NaN</td>\n",
              "      <td>of</td>\n",
              "      <td>IN</td>\n",
              "      <td>O</td>\n",
              "    </tr>\n",
              "    <tr>\n",
              "      <th>2</th>\n",
              "      <td>NaN</td>\n",
              "      <td>demonstrators</td>\n",
              "      <td>NNS</td>\n",
              "      <td>O</td>\n",
              "    </tr>\n",
              "    <tr>\n",
              "      <th>3</th>\n",
              "      <td>NaN</td>\n",
              "      <td>have</td>\n",
              "      <td>VBP</td>\n",
              "      <td>O</td>\n",
              "    </tr>\n",
              "    <tr>\n",
              "      <th>4</th>\n",
              "      <td>NaN</td>\n",
              "      <td>marched</td>\n",
              "      <td>VBN</td>\n",
              "      <td>O</td>\n",
              "    </tr>\n",
              "  </tbody>\n",
              "</table>\n",
              "</div>"
            ],
            "text/plain": [
              "    Sentence #           Word  POS Tag\n",
              "0  Sentence: 1      Thousands  NNS   O\n",
              "1          NaN             of   IN   O\n",
              "2          NaN  demonstrators  NNS   O\n",
              "3          NaN           have  VBP   O\n",
              "4          NaN        marched  VBN   O"
            ]
          },
          "metadata": {
            "tags": []
          },
          "execution_count": 6
        }
      ]
    },
    {
      "cell_type": "code",
      "metadata": {
        "colab": {
          "base_uri": "https://localhost:8080/"
        },
        "id": "PdfiYK1OjeAf",
        "outputId": "1edcdab9-3291-4383-8cac-20b813f353ca"
      },
      "source": [
        "print('데이터프레임 행의 갯수 : {}'.format(len(data)))"
      ],
      "execution_count": 7,
      "outputs": [
        {
          "output_type": "stream",
          "text": [
            "데이터프레임 행의 갯수 : 1048575\n"
          ],
          "name": "stdout"
        }
      ]
    },
    {
      "cell_type": "code",
      "metadata": {
        "colab": {
          "base_uri": "https://localhost:8080/"
        },
        "id": "Ei64PdZAji0k",
        "outputId": "5db85afa-c0b8-4e96-809c-ae7c2c1d2426"
      },
      "source": [
        "print('데이터 NULL값이 있는지 유무 :'+ str(data.isnull().values.any()))"
      ],
      "execution_count": 9,
      "outputs": [
        {
          "output_type": "stream",
          "text": [
            "데이터 NULL값이 있는지 유무 :True\n"
          ],
          "name": "stdout"
        }
      ]
    },
    {
      "cell_type": "code",
      "metadata": {
        "colab": {
          "base_uri": "https://localhost:8080/"
        },
        "id": "Blc3H8ZFjuLj",
        "outputId": "85b0e600-3ce0-42be-8570-bfbab217c683"
      },
      "source": [
        "print('어떤 열에 NULL값이 있는지 출력')\n",
        "print('===============================')\n",
        "data.isnull().sum() # 각 열마다 null값의 갯수를 보여줌"
      ],
      "execution_count": 10,
      "outputs": [
        {
          "output_type": "stream",
          "text": [
            "어떤 열에 NULL값이 있는지 출력\n",
            "===============================\n"
          ],
          "name": "stdout"
        },
        {
          "output_type": "execute_result",
          "data": {
            "text/plain": [
              "Sentence #    1000616\n",
              "Word                0\n",
              "POS                 0\n",
              "Tag                 0\n",
              "dtype: int64"
            ]
          },
          "metadata": {
            "tags": []
          },
          "execution_count": 10
        }
      ]
    },
    {
      "cell_type": "code",
      "metadata": {
        "colab": {
          "base_uri": "https://localhost:8080/"
        },
        "id": "k0ACCo5yj-1T",
        "outputId": "21006d4c-22e9-4447-8ff1-c2558eb4c36d"
      },
      "source": [
        "print('sentence # 열의 중복을 제거한 값의 갯수 : {}'.format(data['Sentence #'].nunique()))\n",
        "print('Word열의 중복을 제거한 값의 갯수 : {}'.format(data.Word.nunique()))\n",
        "print('Tag열의 중복을 제거한 값의 개수 : {}'.format(data.Tag.nunique()))"
      ],
      "execution_count": 11,
      "outputs": [
        {
          "output_type": "stream",
          "text": [
            "sentence # 열의 중복을 제거한 값의 갯수 : 47959\n",
            "Word열의 중복을 제거한 값의 갯수 : 35178\n",
            "Tag열의 중복을 제거한 값의 개수 : 17\n"
          ],
          "name": "stdout"
        }
      ]
    },
    {
      "cell_type": "code",
      "metadata": {
        "colab": {
          "base_uri": "https://localhost:8080/"
        },
        "id": "Frf4fEdVkerw",
        "outputId": "560ef133-019e-4384-9054-715251332f4a"
      },
      "source": [
        "print('Tag 열의 각각의 값의 갯수 카운트')\n",
        "print('================================')\n",
        "print(data.groupby('Tag').size().reset_index(name='count'))"
      ],
      "execution_count": 12,
      "outputs": [
        {
          "output_type": "stream",
          "text": [
            "Tag 열의 각각의 값의 갯수 카운트\n",
            "================================\n",
            "      Tag   count\n",
            "0   B-art     402\n",
            "1   B-eve     308\n",
            "2   B-geo   37644\n",
            "3   B-gpe   15870\n",
            "4   B-nat     201\n",
            "5   B-org   20143\n",
            "6   B-per   16990\n",
            "7   B-tim   20333\n",
            "8   I-art     297\n",
            "9   I-eve     253\n",
            "10  I-geo    7414\n",
            "11  I-gpe     198\n",
            "12  I-nat      51\n",
            "13  I-org   16784\n",
            "14  I-per   17251\n",
            "15  I-tim    6528\n",
            "16      O  887908\n"
          ],
          "name": "stdout"
        }
      ]
    },
    {
      "cell_type": "code",
      "metadata": {
        "id": "5QmkkCEWkuLQ"
      },
      "source": [
        "data = data.fillna(method = 'ffill') # Null값을 가진 행의 바로 앞의 값으로 NULL값을 채우는 작업을 수행"
      ],
      "execution_count": 13,
      "outputs": []
    },
    {
      "cell_type": "code",
      "metadata": {
        "colab": {
          "base_uri": "https://localhost:8080/"
        },
        "id": "0Vys2G8Ik9cR",
        "outputId": "07ef0ed7-34bf-4400-9633-cca716875f96"
      },
      "source": [
        "print(data.tail())"
      ],
      "execution_count": 14,
      "outputs": [
        {
          "output_type": "stream",
          "text": [
            "              Sentence #       Word  POS Tag\n",
            "1048570  Sentence: 47959       they  PRP   O\n",
            "1048571  Sentence: 47959  responded  VBD   O\n",
            "1048572  Sentence: 47959         to   TO   O\n",
            "1048573  Sentence: 47959        the   DT   O\n",
            "1048574  Sentence: 47959     attack   NN   O\n"
          ],
          "name": "stdout"
        }
      ]
    },
    {
      "cell_type": "code",
      "metadata": {
        "colab": {
          "base_uri": "https://localhost:8080/"
        },
        "id": "wDVIQ_QPlAqH",
        "outputId": "0300f759-8790-4ec1-d15f-9c8f071b756c"
      },
      "source": [
        "print('데이터에 Null값이 있는지 유무 :'+str(data.isnull().values.any()))"
      ],
      "execution_count": 15,
      "outputs": [
        {
          "output_type": "stream",
          "text": [
            "데이터에 Null값이 있는지 유무 :False\n"
          ],
          "name": "stdout"
        }
      ]
    },
    {
      "cell_type": "code",
      "metadata": {
        "colab": {
          "base_uri": "https://localhost:8080/"
        },
        "id": "emr-Q4BvlVAM",
        "outputId": "69d15c51-ccc3-4076-c3f3-4cb77dd16679"
      },
      "source": [
        "data['Word'] = data['Word'].str.lower() # 소문자화\n",
        "print('Word열의 중복을 제거한 값의 갯수 : {}'.format(data.Word.nunique()))"
      ],
      "execution_count": 17,
      "outputs": [
        {
          "output_type": "stream",
          "text": [
            "Word열의 중복을 제거한 값의 갯수 : 31817\n"
          ],
          "name": "stdout"
        }
      ]
    },
    {
      "cell_type": "code",
      "metadata": {
        "colab": {
          "base_uri": "https://localhost:8080/"
        },
        "id": "w8eK6oZtlfV-",
        "outputId": "1fe9b8c9-641b-4663-b2f6-81e20b6554fb"
      },
      "source": [
        "print(data[:5])\n",
        "# 소문자화 확인 완료"
      ],
      "execution_count": 18,
      "outputs": [
        {
          "output_type": "stream",
          "text": [
            "    Sentence #           Word  POS Tag\n",
            "0  Sentence: 1      thousands  NNS   O\n",
            "1  Sentence: 1             of   IN   O\n",
            "2  Sentence: 1  demonstrators  NNS   O\n",
            "3  Sentence: 1           have  VBP   O\n",
            "4  Sentence: 1        marched  VBN   O\n"
          ],
          "name": "stdout"
        }
      ]
    },
    {
      "cell_type": "code",
      "metadata": {
        "colab": {
          "base_uri": "https://localhost:8080/"
        },
        "id": "uvHAQCk9llk8",
        "outputId": "4a58bd71-eda6-48b7-af5a-7ae4e3006d1f"
      },
      "source": [
        "# 쌍으로 묶는 작업\n",
        "func = lambda temp: [(w,t) for w, t in zip(temp['Word'].values.tolist(), temp['Tag'].values.tolist())]\n",
        "tagged_sentences = [t for t in data.groupby(\"Sentence #\").apply(func)]\n",
        "print(\"전체 샘플 갯수: {}\".format(len(tagged_sentences)))"
      ],
      "execution_count": 19,
      "outputs": [
        {
          "output_type": "stream",
          "text": [
            "전체 샘플 갯수: 47959\n"
          ],
          "name": "stdout"
        }
      ]
    },
    {
      "cell_type": "code",
      "metadata": {
        "colab": {
          "base_uri": "https://localhost:8080/"
        },
        "id": "QevcJjmymAIs",
        "outputId": "e3f81481-b7bc-41dd-b1a2-0b5c4147b60b"
      },
      "source": [
        "print(tagged_sentences[0])"
      ],
      "execution_count": 20,
      "outputs": [
        {
          "output_type": "stream",
          "text": [
            "[('thousands', 'O'), ('of', 'O'), ('demonstrators', 'O'), ('have', 'O'), ('marched', 'O'), ('through', 'O'), ('london', 'B-geo'), ('to', 'O'), ('protest', 'O'), ('the', 'O'), ('war', 'O'), ('in', 'O'), ('iraq', 'B-geo'), ('and', 'O'), ('demand', 'O'), ('the', 'O'), ('withdrawal', 'O'), ('of', 'O'), ('british', 'B-gpe'), ('troops', 'O'), ('from', 'O'), ('that', 'O'), ('country', 'O'), ('.', 'O')]\n"
          ],
          "name": "stdout"
        }
      ]
    },
    {
      "cell_type": "code",
      "metadata": {
        "id": "BsRJDZTRmETd"
      },
      "source": [
        "# 단어와 개체명정보를 분리\n",
        "sentences, ner_tags = [], []\n",
        "for tagged_sentence in tagged_sentences:\n",
        "  sentence, tag_info = zip(*tagged_sentence) # 각 샘플에서 단어들은 sentence에 개체명 태깅정보들은 tag_info에 저장\n",
        "  sentences.append(list(sentence)) # 각 샘플에서 단어 정보만 저장\n",
        "  ner_tags.append(list(tag_info)) # 각 샘플에서 개체명 태깅 정보망 저장"
      ],
      "execution_count": 21,
      "outputs": []
    },
    {
      "cell_type": "code",
      "metadata": {
        "colab": {
          "base_uri": "https://localhost:8080/"
        },
        "id": "iLdG_ulMmlvH",
        "outputId": "9b05f371-77f9-4cc7-8b15-190c81eb8871"
      },
      "source": [
        "print(sentences[0])\n",
        "print(ner_tags[0])"
      ],
      "execution_count": 22,
      "outputs": [
        {
          "output_type": "stream",
          "text": [
            "['thousands', 'of', 'demonstrators', 'have', 'marched', 'through', 'london', 'to', 'protest', 'the', 'war', 'in', 'iraq', 'and', 'demand', 'the', 'withdrawal', 'of', 'british', 'troops', 'from', 'that', 'country', '.']\n",
            "['O', 'O', 'O', 'O', 'O', 'O', 'B-geo', 'O', 'O', 'O', 'O', 'O', 'B-geo', 'O', 'O', 'O', 'O', 'O', 'B-gpe', 'O', 'O', 'O', 'O', 'O']\n"
          ],
          "name": "stdout"
        }
      ]
    },
    {
      "cell_type": "code",
      "metadata": {
        "colab": {
          "base_uri": "https://localhost:8080/"
        },
        "id": "s-Wpwio9nhg1",
        "outputId": "b9433422-13f3-471b-fc3a-8ff3e7bdaef6"
      },
      "source": [
        "print(sentences[90])\n",
        "print(ner_tags[90])"
      ],
      "execution_count": 23,
      "outputs": [
        {
          "output_type": "stream",
          "text": [
            "['general', 'pinochet', 'has', 'been', 'indicted', 'for', 'tax', 'fraud', 'for', 'allegedly', 'hiding', '$', '27', 'million', 'in', 'foreign', 'bank', 'accounts', '.']\n",
            "['B-per', 'I-per', 'O', 'O', 'O', 'O', 'O', 'O', 'O', 'O', 'O', 'O', 'O', 'O', 'O', 'O', 'O', 'O', 'O']\n"
          ],
          "name": "stdout"
        }
      ]
    },
    {
      "cell_type": "code",
      "metadata": {
        "colab": {
          "base_uri": "https://localhost:8080/",
          "height": 315
        },
        "id": "vUhQgUL4nj7c",
        "outputId": "681712bd-9e9d-45a9-b7dd-a39a7666e5b0"
      },
      "source": [
        "print('샘플의 최대 길이 : %d' % max(len(l) for l in sentences))\n",
        "print('샘플의 평균 길이 : %f' % (sum(map(len, sentences))/len(sentences)))\n",
        "plt.hist([len(s) for s in sentences], bins = 50)\n",
        "plt.xlabel('length of samples')\n",
        "plt.ylabel('number of samples')\n",
        "plt.show()"
      ],
      "execution_count": 24,
      "outputs": [
        {
          "output_type": "stream",
          "text": [
            "샘플의 최대 길이 : 104\n",
            "샘플의 평균 길이 : 21.863988\n"
          ],
          "name": "stdout"
        },
        {
          "output_type": "display_data",
          "data": {
            "image/png": "[encoded data removed]",
            "text/plain": [
              "<Figure size 432x288 with 1 Axes>"
            ]
          },
          "metadata": {
            "tags": [],
            "needs_background": "light"
          }
        }
      ]
    },
    {
      "cell_type": "code",
      "metadata": {
        "id": "6rv4snJUoFAg"
      },
      "source": [
        "# 정수 인코딩\n",
        "src_tokenizer = Tokenizer(oov_token='OOV') # 모든 단어를 사용하지만, 인덱스 1에는 단어 'OOV'를 할당\n",
        "src_tokenizer.fit_on_texts(sentences)\n",
        "tar_tokenizer = Tokenizer(lower = False) # 태깅 정보들은 내부적으로 대문자 유지한채 저장\n",
        "tar_tokenizer.fit_on_texts(ner_tags)"
      ],
      "execution_count": 28,
      "outputs": []
    },
    {
      "cell_type": "code",
      "metadata": {
        "colab": {
          "base_uri": "https://localhost:8080/"
        },
        "id": "rw10LcHbobqA",
        "outputId": "50e5b94a-9f48-493a-e63a-60cd2e7aac12"
      },
      "source": [
        "vocab_size = len(src_tokenizer.word_index)+1\n",
        "tag_size = len(tar_tokenizer.word_index) +1\n",
        "print('단어 집합의 크기:{}'.format(vocab_size))\n",
        "print('개체명 태깅 정보 집합의 크기:{}'.format(tag_size))"
      ],
      "execution_count": 30,
      "outputs": [
        {
          "output_type": "stream",
          "text": [
            "단어 집합의 크기:31819\n",
            "개체명 태깅 정보 집합의 크기:18\n"
          ],
          "name": "stdout"
        }
      ]
    },
    {
      "cell_type": "code",
      "metadata": {
        "colab": {
          "base_uri": "https://localhost:8080/"
        },
        "id": "jcX-y7cvowIs",
        "outputId": "9999c068-91d4-4116-f5f2-f51b3f8a271e"
      },
      "source": [
        "print('단어 OOV의 인덱스 : {}'.format(src_tokenizer.word_index['OOV']))"
      ],
      "execution_count": 31,
      "outputs": [
        {
          "output_type": "stream",
          "text": [
            "단어 OOV의 인덱스 : 1\n"
          ],
          "name": "stdout"
        }
      ]
    },
    {
      "cell_type": "code",
      "metadata": {
        "id": "a8vimM9yo5YY"
      },
      "source": [
        "x_data=src_tokenizer.texts_to_sequences(sentences)\n",
        "y_data=tar_tokenizer.texts_to_sequences(ner_tags)"
      ],
      "execution_count": 32,
      "outputs": []
    },
    {
      "cell_type": "code",
      "metadata": {
        "colab": {
          "base_uri": "https://localhost:8080/"
        },
        "id": "HGv5n6k7pDck",
        "outputId": "64b7896b-e533-49f1-ca81-540229f776de"
      },
      "source": [
        "print(x_data[0])\n",
        "print(y_data[0])\n",
        "# 정수 인코딩 완료"
      ],
      "execution_count": 33,
      "outputs": [
        {
          "output_type": "stream",
          "text": [
            "[254, 6, 967, 16, 1795, 238, 468, 7, 523, 2, 129, 5, 61, 9, 571, 2, 833, 6, 186, 90, 22, 15, 56, 3]\n",
            "[1, 1, 1, 1, 1, 1, 2, 1, 1, 1, 1, 1, 2, 1, 1, 1, 1, 1, 8, 1, 1, 1, 1, 1]\n"
          ],
          "name": "stdout"
        }
      ]
    },
    {
      "cell_type": "code",
      "metadata": {
        "id": "mI-9Z10BpHz7"
      },
      "source": [
        "# 인덱스 투 워드랑 인덱스 투 애니악?? 만들기\n",
        "word_to_index = src_tokenizer.word_index\n",
        "index_to_word = src_tokenizer.index_word\n",
        "ner_to_index = tar_tokenizer.word_index\n",
        "index_to_ner = tar_tokenizer.index_word\n",
        "index_to_ner[0] = 'PAD'"
      ],
      "execution_count": 34,
      "outputs": []
    },
    {
      "cell_type": "code",
      "metadata": {
        "colab": {
          "base_uri": "https://localhost:8080/"
        },
        "id": "qs96SpkPpd20",
        "outputId": "2acb8eb4-0026-47f6-a735-d806b5b84327"
      },
      "source": [
        "print(index_to_ner)"
      ],
      "execution_count": 35,
      "outputs": [
        {
          "output_type": "stream",
          "text": [
            "{1: 'O', 2: 'B-geo', 3: 'B-tim', 4: 'B-org', 5: 'I-per', 6: 'B-per', 7: 'I-org', 8: 'B-gpe', 9: 'I-geo', 10: 'I-tim', 11: 'B-art', 12: 'B-eve', 13: 'I-art', 14: 'I-eve', 15: 'B-nat', 16: 'I-gpe', 17: 'I-nat', 0: 'PAD'}\n"
          ],
          "name": "stdout"
        }
      ]
    },
    {
      "cell_type": "code",
      "metadata": {
        "colab": {
          "base_uri": "https://localhost:8080/"
        },
        "id": "xCOj9w2kphNj",
        "outputId": "d3add537-0fed-4e8a-913b-7e83e43e4f6c"
      },
      "source": [
        "# 시험삼아 디코딩 작업 실행\n",
        "decoded = []\n",
        "for index in x_data[0]: # 첫번째 샘플 안의 인덱스들에 대해서\n",
        "  decoded.append(index_to_word[index]) # 다시 단어로 변환\n",
        "\n",
        "print('기존의 문장 : {}'.format(sentences[0]))\n",
        "print('디코딩 문장 : {}'.format(decoded))"
      ],
      "execution_count": 36,
      "outputs": [
        {
          "output_type": "stream",
          "text": [
            "기존의 문장 : ['thousands', 'of', 'demonstrators', 'have', 'marched', 'through', 'london', 'to', 'protest', 'the', 'war', 'in', 'iraq', 'and', 'demand', 'the', 'withdrawal', 'of', 'british', 'troops', 'from', 'that', 'country', '.']\n",
            "디코딩 문장 : ['thousands', 'of', 'demonstrators', 'have', 'marched', 'through', 'london', 'to', 'protest', 'the', 'war', 'in', 'iraq', 'and', 'demand', 'the', 'withdrawal', 'of', 'british', 'troops', 'from', 'that', 'country', '.']\n"
          ],
          "name": "stdout"
        }
      ]
    },
    {
      "cell_type": "code",
      "metadata": {
        "id": "tDE_EkKBp367"
      },
      "source": [
        "max_len = 70\n",
        "x_data = pad_sequences(x_data, padding='post', maxlen = max_len)\n",
        "y_data = pad_sequences(y_data, padding='post', maxlen = max_len)"
      ],
      "execution_count": 37,
      "outputs": []
    },
    {
      "cell_type": "code",
      "metadata": {
        "id": "K4jGpIW5qHms"
      },
      "source": [
        "x_train, x_test, y_train, y_test = train_test_split(x_data, y_data, test_size = .2, random_state = 777)"
      ],
      "execution_count": 38,
      "outputs": []
    },
    {
      "cell_type": "code",
      "metadata": {
        "id": "46gcdvydqQjH"
      },
      "source": [
        "y_train = to_categorical(y_train, num_classes=tag_size)\n",
        "y_test = to_categorical(y_test, num_classes = tag_size)"
      ],
      "execution_count": 39,
      "outputs": []
    },
    {
      "cell_type": "code",
      "metadata": {
        "colab": {
          "base_uri": "https://localhost:8080/"
        },
        "id": "Rab_OMNCqbSs",
        "outputId": "47c2ae85-b656-491f-a1b5-f18916383114"
      },
      "source": [
        "print('훈련 샘플 문장의 크기 : {}'.format(x_train.shape))\n",
        "print('훈련 샘플 레이블의 크기 : {}'.format(y_train.shape))\n",
        "print('테스트 샘플 문장의 크리 : {}'.format(x_test.shape))\n",
        "print('테스트 샘플 레이블의 크기 : {}'.format(y_test.shape))\n",
        "# 길이가 70까지 짤린것을 확인"
      ],
      "execution_count": 41,
      "outputs": [
        {
          "output_type": "stream",
          "text": [
            "훈련 샘플 문장의 크기 : (38367, 70)\n",
            "훈련 샘플 레이블의 크기 : (38367, 70, 18)\n",
            "테스트 샘플 문장의 크리 : (9592, 70)\n",
            "테스트 샘플 레이블의 크기 : (9592, 70, 18)\n"
          ],
          "name": "stdout"
        }
      ]
    },
    {
      "cell_type": "markdown",
      "metadata": {
        "id": "GKuZiNZTwpul"
      },
      "source": [
        "## F1-Score test"
      ]
    },
    {
      "cell_type": "code",
      "metadata": {
        "id": "Gno-Ri5Iq0Gk"
      },
      "source": [
        "# 가상으로 상황 설정\n",
        "true = ['B-PER', 'I-PER', 'O', 'O','B-MISC', 'O', 'O', 'O', 'O', 'O', 'O', 'O', 'O', 'O', 'O','B-PER','I-PER', 'O', 'O', 'O', 'O', 'O', 'O','B-MISC','I-MISC','I-MISC', 'O', 'O', 'O', 'O', 'O', 'O','B-PER','I-PER', 'O', 'O', 'O', 'O', 'O']"
      ],
      "execution_count": 42,
      "outputs": []
    },
    {
      "cell_type": "code",
      "metadata": {
        "colab": {
          "base_uri": "https://localhost:8080/"
        },
        "id": "FLme-HP8xamj",
        "outputId": "1ee67be1-b166-420b-c9ba-22b6e866d415"
      },
      "source": [
        "# 모두 O로 예측했다고 설정\n",
        "pred = ['O'] * len(true)\n",
        "print(pred)"
      ],
      "execution_count": 43,
      "outputs": [
        {
          "output_type": "stream",
          "text": [
            "['O', 'O', 'O', 'O', 'O', 'O', 'O', 'O', 'O', 'O', 'O', 'O', 'O', 'O', 'O', 'O', 'O', 'O', 'O', 'O', 'O', 'O', 'O', 'O', 'O', 'O', 'O', 'O', 'O', 'O', 'O', 'O', 'O', 'O', 'O', 'O', 'O', 'O', 'O']\n"
          ],
          "name": "stdout"
        }
      ]
    },
    {
      "cell_type": "code",
      "metadata": {
        "colab": {
          "base_uri": "https://localhost:8080/"
        },
        "id": "OlKmMdxLxfZG",
        "outputId": "bda8951f-347c-45d6-e8f1-ff179cf3f970"
      },
      "source": [
        "hit = 0 # 정답 갯수\n",
        "for t, p in zip(true, pred):\n",
        "  if t ==p:\n",
        "    hit+=1 # 정답인 경우에만 +1\n",
        "\n",
        "accuracy = hit/len(true)\n",
        "print(\"정확도 : {:.1%}\".format(accuracy))\n",
        "\n",
        "# 예측 뻥튀기 "
      ],
      "execution_count": 46,
      "outputs": [
        {
          "output_type": "stream",
          "text": [
            "정확도 : 74.4%\n"
          ],
          "name": "stdout"
        }
      ]
    },
    {
      "cell_type": "code",
      "metadata": {
        "colab": {
          "base_uri": "https://localhost:8080/"
        },
        "id": "NJKrtUUdx31E",
        "outputId": "403d2e8c-d470-49fc-d504-162422e18c36"
      },
      "source": [
        "!pip install seqeval"
      ],
      "execution_count": 47,
      "outputs": [
        {
          "output_type": "stream",
          "text": [
            "Collecting seqeval\n",
            "\u001b[?25l  Downloading https://files.pythonhosted.org/packages/9d/2d/233c79d5b4e5ab1dbf111242299153f3caddddbb691219f363ad55ce783d/seqeval-1.2.2.tar.gz (43kB)\n",
            "\r\u001b[K     |███████▌                        | 10kB 12.9MB/s eta 0:00:01\r\u001b[K     |███████████████                 | 20kB 18.4MB/s eta 0:00:01\r\u001b[K     |██████████████████████▌         | 30kB 13.0MB/s eta 0:00:01\r\u001b[K     |██████████████████████████████  | 40kB 9.8MB/s eta 0:00:01\r\u001b[K     |████████████████████████████████| 51kB 4.7MB/s \n",
            "\u001b[?25hRequirement already satisfied: numpy>=1.14.0 in /usr/local/lib/python3.7/dist-packages (from seqeval) (1.19.5)\n",
            "Requirement already satisfied: scikit-learn>=0.21.3 in /usr/local/lib/python3.7/dist-packages (from seqeval) (0.22.2.post1)\n",
            "Requirement already satisfied: joblib>=0.11 in /usr/local/lib/python3.7/dist-packages (from scikit-learn>=0.21.3->seqeval) (1.0.1)\n",
            "Requirement already satisfied: scipy>=0.17.0 in /usr/local/lib/python3.7/dist-packages (from scikit-learn>=0.21.3->seqeval) (1.4.1)\n",
            "Building wheels for collected packages: seqeval\n",
            "  Building wheel for seqeval (setup.py) ... \u001b[?25l\u001b[?25hdone\n",
            "  Created wheel for seqeval: filename=seqeval-1.2.2-cp37-none-any.whl size=16184 sha256=d1f27b7ae4aaa7daa789c41b8e941f7b1f7bd073f7c59407b988a51d2f188b47\n",
            "  Stored in directory: /root/.cache/pip/wheels/52/df/1b/45d75646c37428f7e626214704a0e35bd3cfc32eda37e59e5f\n",
            "Successfully built seqeval\n",
            "Installing collected packages: seqeval\n",
            "Successfully installed seqeval-1.2.2\n"
          ],
          "name": "stdout"
        }
      ]
    },
    {
      "cell_type": "code",
      "metadata": {
        "id": "cwDkgA-5yAss"
      },
      "source": [
        "# 정밀도(precision), 재현률(recall)\n",
        "# 정밀도 = TP / (TP + FP) 특정 개체라고 예측한 경우 종에서 실제 특정 개체로 판명되어 예측이 일치한 비율\n",
        "# 재현율 = TP / (TP + FN) 전체 특정 개체 중에서 실제 특정 개체라고 정답을 맞춘 비율\n",
        "# f1 score = 2* (정밀도* 재현률)/(정밀도 + 재현률)"
      ],
      "execution_count": null,
      "outputs": []
    },
    {
      "cell_type": "code",
      "metadata": {
        "colab": {
          "base_uri": "https://localhost:8080/"
        },
        "id": "jFmuTGktydsz",
        "outputId": "03c3f22d-ba78-43ee-dcf3-d167746443ad"
      },
      "source": [
        "from seqeval.metrics import classification_report\n",
        "print(classification_report([true], [pred]))\n",
        "# MiSC PER은 정밀도 재현율 관점에서 아무것도 맞추지 못했다고 판단 위가 뻥튀기...."
      ],
      "execution_count": 48,
      "outputs": [
        {
          "output_type": "stream",
          "text": [
            "              precision    recall  f1-score   support\n",
            "\n",
            "        MISC       0.00      0.00      0.00         2\n",
            "         PER       0.00      0.00      0.00         3\n",
            "\n",
            "   micro avg       0.00      0.00      0.00         5\n",
            "   macro avg       0.00      0.00      0.00         5\n",
            "weighted avg       0.00      0.00      0.00         5\n",
            "\n"
          ],
          "name": "stdout"
        },
        {
          "output_type": "stream",
          "text": [
            "/usr/local/lib/python3.7/dist-packages/seqeval/metrics/v1.py:57: UndefinedMetricWarning: Precision and F-score are ill-defined and being set to 0.0 in labels with no predicted samples. Use `zero_division` parameter to control this behavior.\n",
            "  _warn_prf(average, modifier, msg_start, len(result))\n",
            "/usr/local/lib/python3.7/dist-packages/seqeval/metrics/v1.py:57: UndefinedMetricWarning: Precision and F-score are ill-defined and being set to 0.0 due to no predicted samples. Use `zero_division` parameter to control this behavior.\n",
            "  _warn_prf(average, modifier, msg_start, len(result))\n"
          ],
          "name": "stderr"
        }
      ]
    },
    {
      "cell_type": "code",
      "metadata": {
        "id": "wEqrZl3PyoIM"
      },
      "source": [
        "# 상황 재설정\n",
        "true = ['B-PER', 'I-PER', 'O', 'O', 'B-MISC', 'O','O','O','O','O','O','O','O','O','O','B-PER','I-PER','O','O','O','O','O','O','B-MISC','I-MISC','I-MISC','O','O','O','O','O','O','B-PER','I-PER','O','O','O','O','O']"
      ],
      "execution_count": 49,
      "outputs": []
    },
    {
      "cell_type": "code",
      "metadata": {
        "id": "3QgpFy_-y-MX"
      },
      "source": [
        "predicted=['B-PER', 'I-PER', 'O', 'O', 'B-MISC', 'O','O','O','O','O','O','O','O','O','O','B-PER','I-PER','O','O','O','O','O','O','O','O','O','O','O','O','O','O','O','O','O','O','O','O','O','O']"
      ],
      "execution_count": 50,
      "outputs": []
    },
    {
      "cell_type": "code",
      "metadata": {
        "colab": {
          "base_uri": "https://localhost:8080/"
        },
        "id": "dhP78svqzBDE",
        "outputId": "4067bcb1-2e6e-4136-8459-dad18aa05697"
      },
      "source": [
        "print(classification_report([true], [predicted]))"
      ],
      "execution_count": 51,
      "outputs": [
        {
          "output_type": "stream",
          "text": [
            "              precision    recall  f1-score   support\n",
            "\n",
            "        MISC       1.00      0.50      0.67         2\n",
            "         PER       1.00      0.67      0.80         3\n",
            "\n",
            "   micro avg       1.00      0.60      0.75         5\n",
            "   macro avg       1.00      0.58      0.73         5\n",
            "weighted avg       1.00      0.60      0.75         5\n",
            "\n"
          ],
          "name": "stdout"
        }
      ]
    },
    {
      "cell_type": "markdown",
      "metadata": {
        "id": "zYyEhBk6zQzM"
      },
      "source": [
        "### F1-score를 측정하는 콜백클래스"
      ]
    },
    {
      "cell_type": "code",
      "metadata": {
        "id": "u06j7n3A1J3Y"
      },
      "source": [
        "from tensorflow.keras.callbacks import Callback\n",
        "from seqeval.metrics import f1_score, classification_report"
      ],
      "execution_count": 55,
      "outputs": []
    },
    {
      "cell_type": "code",
      "metadata": {
        "id": "frUKi1GPzFT0"
      },
      "source": [
        "class F1score(Callback):\n",
        "  def __init__(self, value= 0.0, use_char=True):\n",
        "    super(F1score, self).__init__()\n",
        "    self.value = value\n",
        "    self.use_char = use_char\n",
        "\n",
        "  def sequences_to_tags(self, sequences):\n",
        "    result = []\n",
        "    for sequence in sequences:\n",
        "      tag = []\n",
        "      for pred in sequence: #시퀀스로부터 예측값을 하나 씩 꺼냄\n",
        "        pred_index = np.argmax(pred) #예를들어 [0 0 1 0 0]라면 1의 인덱스인 2를 반환\n",
        "        tag.append(index_to_ner[pred_index].replace(\"PAD\", \"0\"))\n",
        "      result.append(tag)\n",
        "    return result\n",
        "  \n",
        "  # 에포크가 끝날 때마다 실행되는 함수\n",
        "  def on_epoch_end(self, epoch, logs={}):\n",
        "\n",
        "    # char Embedding사용하는 경우\n",
        "    if self.use_char:\n",
        "      x_test = self.validation_data[0]\n",
        "      x_char_test = self.validation_data[1]\n",
        "      y_test = self.validation_data[2]\n",
        "      y_prediced = self.model.predict([x_test, x_char_test])\n",
        "\n",
        "    else:\n",
        "      x_test = self.validation_data[0]\n",
        "      y_test = self.validation_data[1]\n",
        "      y_prediced = self.model.predict([x_test])\n",
        "    \n",
        "    pred_tags = self.sequences_to_tags(y_prediced)\n",
        "    test_tags = self.sequences_to_tags(y_test)\n",
        "\n",
        "    score = f1_score(pred_tags, test_tags)\n",
        "    print(' - f1: {:04.2f}'.format(score*100))\n",
        "    print(classification_report(test_tags, pred_tags))\n",
        "\n",
        "    # F1 score가 지금까지 중 가장 높은 경우\n",
        "    if score > self.value:\n",
        "      print('f1_score improved from %f to %f, saving model to best_model.h5' % (self.value, score))\n",
        "      self.model.save('best_model.h5')\n",
        "      self.value = score\n",
        "    else:\n",
        "      print('f1_score did not impove from %f' % (self.value))"
      ],
      "execution_count": 56,
      "outputs": []
    },
    {
      "cell_type": "markdown",
      "metadata": {
        "id": "WUP7LLnY1njb"
      },
      "source": [
        "## BILSTM + CRF 모델"
      ]
    },
    {
      "cell_type": "markdown",
      "metadata": {
        "id": "2k9PBBoK18N4"
      },
      "source": [
        "![](https://wikidocs.net/images/page/34156/bilstmcrf1.PNG)"
      ]
    },
    {
      "cell_type": "markdown",
      "metadata": {
        "id": "7PPyZzBX2N84"
      },
      "source": [
        "![](https://wikidocs.net/images/page/34156/bilstmcrf2_%EC%88%98%EC%A0%95.PNG)"
      ]
    },
    {
      "cell_type": "markdown",
      "metadata": {
        "id": "TzKyK0vI2cxf"
      },
      "source": [
        "양방향 LSTM 에 CRF층을 추가\n",
        "\n",
        "![](https://wikidocs.net/images/page/34156/bilstmcrf3.PNG)"
      ]
    },
    {
      "cell_type": "markdown",
      "metadata": {
        "id": "0ai-UxHk2cmk"
      },
      "source": [
        "1. 문장의 첫번째 단어에는 I가 나오지 않습니다.\n",
        "2. O-I패턴은 나오지 않는다.\n",
        "3. B-I-I패턴에서 개체명은 일관성을 유지합니다. \n",
        "예를들어 B-PER 다음에 I-Org는 나오지 않습니다."
      ]
    },
    {
      "cell_type": "code",
      "metadata": {
        "colab": {
          "base_uri": "https://localhost:8080/"
        },
        "id": "Xhpl77eqzPtM",
        "outputId": "dcbdcb2f-abb4-4efa-c344-b575dccee471"
      },
      "source": [
        "# 개체명 인식할떄 많이 사용함\n",
        "print('훈련 샘플 문장의 크기 : {}'.format(x_train.shape))\n",
        "print('훈련 샘플 레이블의 크기 : {}'.format(y_train.shape))\n",
        "print('테스트 샘플 문장의 크리 : {}'.format(x_test.shape))\n",
        "print('테스트 샘플 레이블의 크기 : {}'.format(y_test.shape))"
      ],
      "execution_count": 57,
      "outputs": [
        {
          "output_type": "stream",
          "text": [
            "훈련 샘플 문장의 크기 : (38367, 70)\n",
            "훈련 샘플 레이블의 크기 : (38367, 70, 18)\n",
            "테스트 샘플 문장의 크리 : (9592, 70)\n",
            "테스트 샘플 레이블의 크기 : (9592, 70, 18)\n"
          ],
          "name": "stdout"
        }
      ]
    },
    {
      "cell_type": "code",
      "metadata": {
        "id": "xr_szVcl3BXS"
      },
      "source": [
        "from tensorflow.keras.models import Sequential\n",
        "from tensorflow.keras.layers import LSTM, Embedding, Dense, TimeDistributed, Dropout, Bidirectional\n",
        "from tensorflow.keras.modles import load_model\n",
        "from keras_contrib.layers import CRF \n",
        "from tensorflow.keras"
      ],
      "execution_count": null,
      "outputs": []
    },
    {
      "cell_type": "markdown",
      "metadata": {
        "id": "RyJW7ZPxACwX"
      },
      "source": [
        "위까지 에러나서 강사님이 다시 코딩해서 슬랙에 올려주신다고함"
      ]
    },
    {
      "cell_type": "code",
      "metadata": {
        "id": "1wJXz76MAHC9"
      },
      "source": [
        ""
      ],
      "execution_count": null,
      "outputs": []
    },
    {
      "cell_type": "markdown",
      "metadata": {
        "id": "PbtBjsDPCFMN"
      },
      "source": [
        "## Transformer"
      ]
    },
    {
      "cell_type": "markdown",
      "metadata": {
        "id": "q3T3VwJ5CNIB"
      },
      "source": [
        "### 1. 기존의 seq2seq모델의 한계\n",
        "- 입력시퀀스를 하나의 벡터표현으로 압축(context vector) 디코더는 이를 통해 출력 시퀀스를 만들어냄\n",
        "- 정보가 일부 손실된다든 단점\n"
      ]
    },
    {
      "cell_type": "markdown",
      "metadata": {
        "id": "te2jCEj_CauS"
      },
      "source": [
        "- $d_{model} $= 512\n",
        "- num_layer = 6 # 인코더와 디코다 각각 6개 쌓였다\n",
        "- num_heads = 8 # 어텐션을 사용할때 여러개의 병렬로 수행\n",
        "- $d_{ff}$ = 2048 # 은닉층의 크기"
      ]
    },
    {
      "cell_type": "markdown",
      "metadata": {
        "id": "vdmLQf6MDDmK"
      },
      "source": [
        "![](https://wikidocs.net/images/page/31379/transformer1.PNG)"
      ]
    },
    {
      "cell_type": "markdown",
      "metadata": {
        "id": "3BW-mA5yDa8q"
      },
      "source": [
        "![](https://wikidocs.net/images/page/31379/transformer2.PNG)"
      ]
    },
    {
      "cell_type": "markdown",
      "metadata": {
        "id": "TLABt0pTDkeQ"
      },
      "source": [
        "![](https://wikidocs.net/images/page/31379/transformer4_final_final_final.PNG)"
      ]
    },
    {
      "cell_type": "markdown",
      "metadata": {
        "id": "gHmAplOFDqg2"
      },
      "source": [
        "## 포지셔널 인코딩\n",
        "![](https://wikidocs.net/images/page/31379/transformer5_final_final.PNG)"
      ]
    },
    {
      "cell_type": "markdown",
      "metadata": {
        "id": "O6lmpZvTD8xc"
      },
      "source": [
        "더해지는 과정을 시각화\n",
        "\n",
        "\n",
        "\n",
        "![](https://wikidocs.net/images/page/31379/transformer6_final.PNG)"
      ]
    },
    {
      "cell_type": "markdown",
      "metadata": {
        "id": "oXlQxWpHEbv1"
      },
      "source": [
        "# 포지셔널 인코딩을 위해서 두가지 함수가 존재\n",
        "\n",
        "\n",
        "![image.png](data:image/png;base64,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)"
      ]
    },
    {
      "cell_type": "markdown",
      "metadata": {
        "id": "S0dV1GlUEgbi"
      },
      "source": [
        "![](https://wikidocs.net/images/page/31379/transformer7.PNG)"
      ]
    },
    {
      "cell_type": "markdown",
      "metadata": {
        "id": "PjvLuSIFElyl"
      },
      "source": [
        "- pos: 입력 문장에서의 임베딩 벡터의 위치\n",
        "- i: 임베딩 벡터 내의 차원의 인덱스를 의미\n",
        "(pos, 2i) --> 사인함수, (pos, 2i+1) --> 코사인 함수"
      ]
    },
    {
      "cell_type": "markdown",
      "metadata": {
        "id": "77TYsa8dISuo"
      },
      "source": [
        "**여기서부터 에러가 나서 NLP_9일차 실습하기(2)로 이동**"
      ]
    },
    {
      "cell_type": "code",
      "metadata": {
        "id": "Ghnp3xB_AHnM"
      },
      "source": [
        "# 코드로 구현\n",
        "import tensorflow as tf\n",
        "class PositionalEncoding(tf.keras.layers.Layer):\n",
        "  def __init__(self, position, d_model):\n",
        "    super(PositionalEncoding, self).__init__()\n",
        "    self.pos_encoding = self.positional_encoding(position, d_model)\n",
        "\n",
        "  def get_angles(self, position, i, d_model):\n",
        "    angles = 1 /tf.pow(10000, (2*(i//2))/ tf.cast(d_model, tf.float32))\n",
        "    return position * get_angles\n",
        "  \n",
        "  def positional_encoding(self, position, d_model):\n",
        "    angle_rads = self.get_angles(\n",
        "        position = tf.range(position, dtype=tf.float32)[:, tf.newaxis],\n",
        "        i = tf.range(d_model, dtype=tf.float32)[tf.newaxis, :],\n",
        "        d_model = d_model)\n",
        "  \n",
        "    # 배열의 짝수 인덱스에는 사인함수 적용\n",
        "    sines = tf.math.sin(angle_rads[:, 0::2])\n",
        "\n",
        "    #배열의 홀수 인덱스에는 코사인함수 적용\n",
        "    cosines = tf.math.cos(angle_rads[:, 1::2])\n",
        "\n",
        "    angle_rads = np.zeros(angle_rads.shape)\n",
        "    angle_rads[:, 0::2] =sines\n",
        "    angle_rads[:, 1::2] = cosines\n",
        "    pos_encoding = tf.constant(angle_rads)\n",
        "    pos_encoding = pos_encoding[tf.newaxis, ...]\n",
        "\n",
        "    print(pos_encoding.shape)\n",
        "    return tf.cast(pos_encoding, tf.float32)\n",
        "\n",
        "  def call(self, inputs):\n",
        "    return inputs + self.pos_encoding[:, :tf.shape(inputs)[1], :]"
      ],
      "execution_count": 3,
      "outputs": []
    },
    {
      "cell_type": "code",
      "metadata": {
        "colab": {
          "base_uri": "https://localhost:8080/",
          "height": 396
        },
        "id": "Cm_RDRAnGjSv",
        "outputId": "0fc0c878-fc7a-41b9-ed49-b46e09976827"
      },
      "source": [
        "# 50x 128크기를 가지는 포지셔널인코딩 행렬을 시각화해서 어떤 형태를 가지는지 봅시다.\n",
        "# 입력 문장의 단어가 50, 각 단어가 128차원의 임베딩 벡터를 가질 떄 사용할 수 있는 행렬\n",
        "\n",
        "sample_pos_encoding = PositionalEncoding(50, 128)\n",
        "\n",
        "plt.pcolormesh(sample_pos_encoding.pos_encoding.numpy()[0], cmap=\"RdBu\")\n",
        "plt.xlabel('Depth')\n",
        "plt.xlim((0,128))\n",
        "plt.ylabel('Position')\n",
        "plt.colorbar()\n",
        "plt.show()"
      ],
      "execution_count": 4,
      "outputs": [
        {
          "output_type": "error",
          "ename": "NameError",
          "evalue": "ignored",
          "traceback": [
            "\u001b[0;31m---------------------------------------------------------------------------\u001b[0m",
            "\u001b[0;31mNameError\u001b[0m                                 Traceback (most recent call last)",
            "\u001b[0;32m<ipython-input-4-2728784ca118>\u001b[0m in \u001b[0;36m<module>\u001b[0;34m()\u001b[0m\n\u001b[1;32m      2\u001b[0m \u001b[0;31m# 입력 문장의 단어가 50, 각 단어가 128차원의 임베딩 벡터를 가질 떄 사용할 수 있는 행렬\u001b[0m\u001b[0;34m\u001b[0m\u001b[0;34m\u001b[0m\u001b[0;34m\u001b[0m\u001b[0m\n\u001b[1;32m      3\u001b[0m \u001b[0;34m\u001b[0m\u001b[0m\n\u001b[0;32m----> 4\u001b[0;31m \u001b[0msample_pos_encoding\u001b[0m \u001b[0;34m=\u001b[0m \u001b[0mPositionalEncoding\u001b[0m\u001b[0;34m(\u001b[0m\u001b[0;36m50\u001b[0m\u001b[0;34m,\u001b[0m \u001b[0;36m128\u001b[0m\u001b[0;34m)\u001b[0m\u001b[0;34m\u001b[0m\u001b[0;34m\u001b[0m\u001b[0m\n\u001b[0m\u001b[1;32m      5\u001b[0m \u001b[0;34m\u001b[0m\u001b[0m\n\u001b[1;32m      6\u001b[0m \u001b[0mplt\u001b[0m\u001b[0;34m.\u001b[0m\u001b[0mpcolormesh\u001b[0m\u001b[0;34m(\u001b[0m\u001b[0msample_pos_encoding\u001b[0m\u001b[0;34m.\u001b[0m\u001b[0mpos_encoding\u001b[0m\u001b[0;34m.\u001b[0m\u001b[0mnumpy\u001b[0m\u001b[0;34m(\u001b[0m\u001b[0;34m)\u001b[0m\u001b[0;34m[\u001b[0m\u001b[0;36m0\u001b[0m\u001b[0;34m]\u001b[0m\u001b[0;34m,\u001b[0m \u001b[0mcmap\u001b[0m\u001b[0;34m=\u001b[0m\u001b[0;34m\"RdBu\"\u001b[0m\u001b[0;34m)\u001b[0m\u001b[0;34m\u001b[0m\u001b[0;34m\u001b[0m\u001b[0m\n",
            "\u001b[0;32m<ipython-input-3-7f99faba977e>\u001b[0m in \u001b[0;36m__init__\u001b[0;34m(self, position, d_model)\u001b[0m\n\u001b[1;32m      4\u001b[0m   \u001b[0;32mdef\u001b[0m \u001b[0m__init__\u001b[0m\u001b[0;34m(\u001b[0m\u001b[0mself\u001b[0m\u001b[0;34m,\u001b[0m \u001b[0mposition\u001b[0m\u001b[0;34m,\u001b[0m \u001b[0md_model\u001b[0m\u001b[0;34m)\u001b[0m\u001b[0;34m:\u001b[0m\u001b[0;34m\u001b[0m\u001b[0;34m\u001b[0m\u001b[0m\n\u001b[1;32m      5\u001b[0m     \u001b[0msuper\u001b[0m\u001b[0;34m(\u001b[0m\u001b[0mPositionalEncoding\u001b[0m\u001b[0;34m,\u001b[0m \u001b[0mself\u001b[0m\u001b[0;34m)\u001b[0m\u001b[0;34m.\u001b[0m\u001b[0m__init__\u001b[0m\u001b[0;34m(\u001b[0m\u001b[0;34m)\u001b[0m\u001b[0;34m\u001b[0m\u001b[0;34m\u001b[0m\u001b[0m\n\u001b[0;32m----> 6\u001b[0;31m     \u001b[0mself\u001b[0m\u001b[0;34m.\u001b[0m\u001b[0mpos_encoding\u001b[0m \u001b[0;34m=\u001b[0m \u001b[0mself\u001b[0m\u001b[0;34m.\u001b[0m\u001b[0mpositional_encoding\u001b[0m\u001b[0;34m(\u001b[0m\u001b[0mposition\u001b[0m\u001b[0;34m,\u001b[0m \u001b[0md_model\u001b[0m\u001b[0;34m)\u001b[0m\u001b[0;34m\u001b[0m\u001b[0;34m\u001b[0m\u001b[0m\n\u001b[0m\u001b[1;32m      7\u001b[0m \u001b[0;34m\u001b[0m\u001b[0m\n\u001b[1;32m      8\u001b[0m   \u001b[0;32mdef\u001b[0m \u001b[0mget_angles\u001b[0m\u001b[0;34m(\u001b[0m\u001b[0mself\u001b[0m\u001b[0;34m,\u001b[0m \u001b[0mposition\u001b[0m\u001b[0;34m,\u001b[0m \u001b[0mi\u001b[0m\u001b[0;34m,\u001b[0m \u001b[0md_model\u001b[0m\u001b[0;34m)\u001b[0m\u001b[0;34m:\u001b[0m\u001b[0;34m\u001b[0m\u001b[0;34m\u001b[0m\u001b[0m\n",
            "\u001b[0;32m<ipython-input-3-7f99faba977e>\u001b[0m in \u001b[0;36mpositional_encoding\u001b[0;34m(self, position, d_model)\u001b[0m\n\u001b[1;32m     14\u001b[0m         \u001b[0mposition\u001b[0m \u001b[0;34m=\u001b[0m \u001b[0mtf\u001b[0m\u001b[0;34m.\u001b[0m\u001b[0mrange\u001b[0m\u001b[0;34m(\u001b[0m\u001b[0mposition\u001b[0m\u001b[0;34m,\u001b[0m \u001b[0mdtype\u001b[0m\u001b[0;34m=\u001b[0m\u001b[0mtf\u001b[0m\u001b[0;34m.\u001b[0m\u001b[0mfloat32\u001b[0m\u001b[0;34m)\u001b[0m\u001b[0;34m[\u001b[0m\u001b[0;34m:\u001b[0m\u001b[0;34m,\u001b[0m \u001b[0mtf\u001b[0m\u001b[0;34m.\u001b[0m\u001b[0mnewaxis\u001b[0m\u001b[0;34m]\u001b[0m\u001b[0;34m,\u001b[0m\u001b[0;34m\u001b[0m\u001b[0;34m\u001b[0m\u001b[0m\n\u001b[1;32m     15\u001b[0m         \u001b[0mi\u001b[0m \u001b[0;34m=\u001b[0m \u001b[0mtf\u001b[0m\u001b[0;34m.\u001b[0m\u001b[0mrange\u001b[0m\u001b[0;34m(\u001b[0m\u001b[0md_model\u001b[0m\u001b[0;34m,\u001b[0m \u001b[0mdtype\u001b[0m\u001b[0;34m=\u001b[0m\u001b[0mtf\u001b[0m\u001b[0;34m.\u001b[0m\u001b[0mfloat32\u001b[0m\u001b[0;34m)\u001b[0m\u001b[0;34m[\u001b[0m\u001b[0mtf\u001b[0m\u001b[0;34m.\u001b[0m\u001b[0mnewaxis\u001b[0m\u001b[0;34m,\u001b[0m \u001b[0;34m:\u001b[0m\u001b[0;34m]\u001b[0m\u001b[0;34m,\u001b[0m\u001b[0;34m\u001b[0m\u001b[0;34m\u001b[0m\u001b[0m\n\u001b[0;32m---> 16\u001b[0;31m         d_model = d_model)\n\u001b[0m\u001b[1;32m     17\u001b[0m \u001b[0;34m\u001b[0m\u001b[0m\n\u001b[1;32m     18\u001b[0m     \u001b[0;31m# 배열의 짝수 인덱스에는 사인함수 적용\u001b[0m\u001b[0;34m\u001b[0m\u001b[0;34m\u001b[0m\u001b[0;34m\u001b[0m\u001b[0m\n",
            "\u001b[0;32m<ipython-input-3-7f99faba977e>\u001b[0m in \u001b[0;36mget_angles\u001b[0;34m(self, position, i, d_model)\u001b[0m\n\u001b[1;32m      8\u001b[0m   \u001b[0;32mdef\u001b[0m \u001b[0mget_angles\u001b[0m\u001b[0;34m(\u001b[0m\u001b[0mself\u001b[0m\u001b[0;34m,\u001b[0m \u001b[0mposition\u001b[0m\u001b[0;34m,\u001b[0m \u001b[0mi\u001b[0m\u001b[0;34m,\u001b[0m \u001b[0md_model\u001b[0m\u001b[0;34m)\u001b[0m\u001b[0;34m:\u001b[0m\u001b[0;34m\u001b[0m\u001b[0;34m\u001b[0m\u001b[0m\n\u001b[1;32m      9\u001b[0m     \u001b[0mangles\u001b[0m \u001b[0;34m=\u001b[0m \u001b[0;36m1\u001b[0m \u001b[0;34m/\u001b[0m\u001b[0mtf\u001b[0m\u001b[0;34m.\u001b[0m\u001b[0mpow\u001b[0m\u001b[0;34m(\u001b[0m\u001b[0;36m10000\u001b[0m\u001b[0;34m,\u001b[0m \u001b[0;34m(\u001b[0m\u001b[0;36m2\u001b[0m\u001b[0;34m*\u001b[0m\u001b[0;34m(\u001b[0m\u001b[0mi\u001b[0m\u001b[0;34m//\u001b[0m\u001b[0;36m2\u001b[0m\u001b[0;34m)\u001b[0m\u001b[0;34m)\u001b[0m\u001b[0;34m/\u001b[0m \u001b[0mtf\u001b[0m\u001b[0;34m.\u001b[0m\u001b[0mcast\u001b[0m\u001b[0;34m(\u001b[0m\u001b[0md_model\u001b[0m\u001b[0;34m,\u001b[0m \u001b[0mtf\u001b[0m\u001b[0;34m.\u001b[0m\u001b[0mfloat32\u001b[0m\u001b[0;34m)\u001b[0m\u001b[0;34m)\u001b[0m\u001b[0;34m\u001b[0m\u001b[0;34m\u001b[0m\u001b[0m\n\u001b[0;32m---> 10\u001b[0;31m     \u001b[0;32mreturn\u001b[0m \u001b[0mposition\u001b[0m \u001b[0;34m*\u001b[0m \u001b[0mget_angles\u001b[0m\u001b[0;34m\u001b[0m\u001b[0;34m\u001b[0m\u001b[0m\n\u001b[0m\u001b[1;32m     11\u001b[0m \u001b[0;34m\u001b[0m\u001b[0m\n\u001b[1;32m     12\u001b[0m   \u001b[0;32mdef\u001b[0m \u001b[0mpositional_encoding\u001b[0m\u001b[0;34m(\u001b[0m\u001b[0mself\u001b[0m\u001b[0;34m,\u001b[0m \u001b[0mposition\u001b[0m\u001b[0;34m,\u001b[0m \u001b[0md_model\u001b[0m\u001b[0;34m)\u001b[0m\u001b[0;34m:\u001b[0m\u001b[0;34m\u001b[0m\u001b[0;34m\u001b[0m\u001b[0m\n",
            "\u001b[0;31mNameError\u001b[0m: name 'get_angles' is not defined"
          ]
        }
      ]
    },
    {
      "cell_type": "code",
      "metadata": {
        "id": "mFzi6M-nHGKV"
      },
      "source": [
        ""
      ],
      "execution_count": null,
      "outputs": []
    }
  ]
}