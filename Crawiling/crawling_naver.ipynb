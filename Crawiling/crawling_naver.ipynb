{
 "cells": [
  {
   "cell_type": "code",
   "execution_count": 59,
   "metadata": {},
   "outputs": [
    {
     "name": "stdout",
     "output_type": "stream",
     "text": [
      "메일\n",
      "카페\n",
      "블로그\n",
      "지식iN\n",
      "쇼핑\n",
      "Pay\n",
      "TV\n"
     ]
    }
   ],
   "source": [
    "# BeautifulSoup로 크롤링 기본\n",
    "import requests\n",
    "import bs4\n",
    "\n",
    "req = requests.get(\"https://www.naver.com\")\n",
    "\n",
    "# print(req)\n",
    "# <Response [200]>\n",
    "\n",
    "naver_html = req.text\n",
    "\n",
    "# print(req.text)\n",
    "\n",
    "# print(req.text) 의 결과에서 정제된 결과를 볼 수 있다.\n",
    "bs_obj = bs4.BeautifulSoup(naver_html, \"lxml\")\n",
    "# print(bs_obj)\n",
    "\n",
    "# 1번 문제\n",
    "ul = bs_obj.find(\"ul\",{\"class\":\"list_nav\"})\n",
    "# print(ul)\n",
    "\n",
    "li_list = ul.findAll(\"li\") # fianAll은 list형식으로 추출\n",
    "#print(li_list)\n",
    "\n",
    "for li in li_list:\n",
    "    a_tag = li.find(\"a\")    \n",
    "    print(a_tag.text)"
   ]
  },
  {
   "cell_type": "code",
   "execution_count": 65,
   "metadata": {},
   "outputs": [
    {
     "name": "stdout",
     "output_type": "stream",
     "text": [
      "메일\n",
      "카페\n",
      "블로그\n",
      "지식iN\n",
      "쇼핑\n",
      "Pay\n",
      "TV\n"
     ]
    }
   ],
   "source": [
    "# BeautifulSoup로 크롤링 기본\n",
    "import requests\n",
    "import bs4\n",
    "\n",
    "req = requests.get(\"https://www.naver.com\")\n",
    "\n",
    "# print(req)\n",
    "# <Response [200]>\n",
    "\n",
    "naver_html = req.text\n",
    "\n",
    "# print(req.text)\n",
    "\n",
    "# print(req.text) 의 결과에서 정제된 결과를 볼 수 있다.\n",
    "bs_obj = bs4.BeautifulSoup(naver_html, \"lxml\")\n",
    "\n",
    "# 1-2번 문제\n",
    "ul = bs_obj.find(\"ul\",{\"class\":\"list_nav type_fix\"})\n",
    "#print(ul)\n",
    "\n",
    "li_list = ul.findAll(\"li\") # fianAll은 list형식으로 추출\n",
    "#print(li_list)\n",
    "\n",
    "for li in li_list:\n",
    "    a_tag = li.find(\"a\")    \n",
    "    print(a_tag.text)"
   ]
  },
  {
   "cell_type": "code",
   "execution_count": 81,
   "metadata": {},
   "outputs": [
    {
     "name": "stdout",
     "output_type": "stream",
     "text": [
      "사전\n",
      "뉴스\n",
      "증권\n",
      "부동산\n",
      "지도\n",
      "영화\n",
      "VIBE\n",
      "책\n",
      "웹툰\n"
     ]
    }
   ],
   "source": [
    "# BeautifulSoup로 크롤링 기본\n",
    "import requests\n",
    "import bs4\n",
    "\n",
    "req = requests.get(\"https://www.naver.com\")\n",
    "\n",
    "# print(req)\n",
    "# <Response [200]>\n",
    "\n",
    "naver_html = req.text\n",
    "\n",
    "# print(req.text)\n",
    "\n",
    "# print(req.text) 의 결과에서 정제된 결과를 볼 수 있다.\n",
    "bs_obj = bs4.BeautifulSoup(naver_html, \"lxml\")\n",
    "\n",
    "# 2-1번 문제\n",
    "ul = bs_obj.find(\"ul\",{\"class\":\"list_nav NM_FAVORITE_LIST\"})\n",
    "# ul = bs_obj.find(\"ul\",class_ = \"list_nav NM_FAVORITE_LIST\")\n",
    "#print(ul)\n",
    "\n",
    "li_list = ul.findAll(\"li\") # fianAll은 list형식으로 추출\n",
    "#print(li_list)\n",
    "\n",
    "for li in li_list:\n",
    "    a_tag = li.find(\"a\")    \n",
    "    print(a_tag.text)"
   ]
  },
  {
   "cell_type": "code",
   "execution_count": 67,
   "metadata": {},
   "outputs": [
    {
     "name": "stdout",
     "output_type": "stream",
     "text": [
      "사전\n",
      "뉴스\n",
      "증권\n",
      "부동산\n",
      "지도\n",
      "영화\n",
      "VIBE\n",
      "책\n",
      "웹툰\n"
     ]
    }
   ],
   "source": [
    "# BeautifulSoup로 크롤링 기본\n",
    "import requests\n",
    "import bs4\n",
    "\n",
    "req = requests.get(\"https://www.naver.com\")\n",
    "\n",
    "# print(req)\n",
    "# <Response [200]>\n",
    "\n",
    "naver_html = req.text\n",
    "\n",
    "# print(req.text)\n",
    "\n",
    "# print(req.text) 의 결과에서 정제된 결과를 볼 수 있다.\n",
    "bs_obj = bs4.BeautifulSoup(naver_html, \"lxml\")\n",
    "\n",
    "# 2-2번 문제\n",
    "ul = bs_obj.find(\"ul\",{\"class\":\"NM_FAVORITE_LIST\"})\n",
    "#print(ul)\n",
    "\n",
    "li_list = ul.findAll(\"li\") # fianAll은 list형식으로 추출\n",
    "#print(li_list)\n",
    "\n",
    "for li in li_list:\n",
    "    a_tag = li.find(\"a\")    \n",
    "    print(a_tag.text)"
   ]
  },
  {
   "cell_type": "code",
   "execution_count": 83,
   "metadata": {},
   "outputs": [
    {
     "name": "stdout",
     "output_type": "stream",
     "text": [
      "메일\n",
      "카페\n",
      "블로그\n",
      "지식iN\n",
      "쇼핑\n",
      "Pay\n",
      "TV\n"
     ]
    }
   ],
   "source": [
    "# select 문법으로 해보기\n",
    "\n",
    "# BeautifulSoup로 크롤링 기본\n",
    "import requests\n",
    "import bs4\n",
    "\n",
    "req = requests.get(\"https://www.naver.com\")\n",
    "\n",
    "# print(req)\n",
    "# <Response [200]>\n",
    "\n",
    "naver_html = req.text\n",
    "\n",
    "# print(req.text)\n",
    "\n",
    "# print(req.text) 의 결과에서 정제된 결과를 볼 수 있다.\n",
    "bs_obj = bs4.BeautifulSoup(naver_html, \"lxml\")\n",
    "\n",
    "# 1-3번 문제\n",
    "ul = bs_obj.select(\"div.group_nav > ul.list_nav.type_fix > li\")\n",
    "#print(ul)\n",
    "\n",
    "for li in ul:\n",
    "    a_tag = li.find(\"a\")    \n",
    "    print(a_tag.text)"
   ]
  },
  {
   "cell_type": "code",
   "execution_count": 91,
   "metadata": {},
   "outputs": [
    {
     "name": "stdout",
     "output_type": "stream",
     "text": [
      "메일\n",
      "카페\n",
      "블로그\n",
      "지식iN\n",
      "쇼핑\n",
      "Pay\n",
      "TV\n",
      "사전\n",
      "뉴스\n",
      "증권\n",
      "부동산\n",
      "지도\n",
      "영화\n",
      "VIBE\n",
      "책\n",
      "웹툰\n"
     ]
    }
   ],
   "source": [
    "# select 문법으로 해보기\n",
    "\n",
    "# BeautifulSoup로 크롤링 기본\n",
    "import requests\n",
    "import bs4\n",
    "\n",
    "req = requests.get(\"https://www.naver.com\")\n",
    "\n",
    "# print(req)\n",
    "# <Response [200]>\n",
    "\n",
    "naver_html = req.text\n",
    "\n",
    "# print(req.text)\n",
    "\n",
    "# print(req.text) 의 결과에서 정제된 결과를 볼 수 있다.\n",
    "bs_obj = bs4.BeautifulSoup(naver_html, \"lxml\")\n",
    "\n",
    "# 3번 문제\n",
    "# > 후손 선택자, 공백 자식 선택자\n",
    "# . class\n",
    "# div class=\"group_nave\" -> ul class=\"list_nave ~\" -> li\n",
    "# div class=\"group_nave\" -> ul class=\"list_nave ~\" -> li class=\"nav_item\"\n",
    "ul = bs_obj.select(\"div.group_nav > ul.list_nav > li\") \n",
    "#print(ul)\n",
    "\n",
    "for li in ul:\n",
    "    a_tag = li.find(\"a\")    \n",
    "    print(a_tag.text)"
   ]
  },
  {
   "cell_type": "code",
   "execution_count": 86,
   "metadata": {},
   "outputs": [
    {
     "name": "stdout",
     "output_type": "stream",
     "text": [
      "<Response [200]>\n",
      "지도\n"
     ]
    }
   ],
   "source": [
    "import requests\n",
    "\n",
    "# request로 URL 정보 가져오기\n",
    "url = \"https://www.naver.com\"\n",
    "html = requests.get(url)\n",
    "print(html)\n",
    "\n",
    "html_t = html.text\n",
    "\n",
    "from bs4 import BeautifulSoup\n",
    "soup = BeautifulSoup(html_t, \"lxml\") # lxml 긴거일때 사용 heml.parser 보다 빠름\n",
    "\n",
    "links = soup.find_all(attrs={'data-clk':'svc.map'})\n",
    "# <a class=\"nav\" data-clk=\"svc.mail\" href=\"https://mail.naver.com/\"><i class=\"ico_mail\"></i>메일</a>,\n",
    "\n",
    "for a in links:\n",
    "    # text = a.string\n",
    "    # print(text)\n",
    "    print(a.get_text())"
   ]
  },
  {
   "cell_type": "code",
   "execution_count": null,
   "metadata": {},
   "outputs": [],
   "source": []
  }
 ],
 "metadata": {
  "kernelspec": {
   "display_name": "Python 3",
   "language": "python",
   "name": "python3"
  },
  "language_info": {
   "codemirror_mode": {
    "name": "ipython",
    "version": 3
   },
   "file_extension": ".py",
   "mimetype": "text/x-python",
   "name": "python",
   "nbconvert_exporter": "python",
   "pygments_lexer": "ipython3",
   "version": "3.8.5"
  }
 },
 "nbformat": 4,
 "nbformat_minor": 4
}
